{
 "cells": [
  {
   "cell_type": "code",
   "execution_count": 638,
   "metadata": {},
   "outputs": [],
   "source": [
    "import pandas as pd\n",
    "import numpy as np\n",
    "import seaborn as sns\n",
    "import matplotlib.pyplot as plt\n",
    "\n",
    "from sklearn.ensemble import RandomForestRegressor\n",
    "from sklearn.metrics import r2_score, mean_squared_error, mean_absolute_percentage_error\n",
    "\n",
    "from petro_utils import compare_pred_results\n",
    "\n",
    "import seaborn as sns\n",
    "\n",
    "import warnings # supress warnings\n",
    "warnings.filterwarnings('ignore')"
   ]
  },
  {
   "cell_type": "markdown",
   "metadata": {},
   "source": [
    "# Predicting Production with Machine Learning\n",
    "The core of Petro.ai's machine learning pipeline are multivariate models that predict production based on geologic and engineering features of wells from a region of interest.  This notebook walks through a simplified workflow for building one of these models.  Your task is to run the simplified model, and understand the steps and the generated results.  You can use this as a start to improve the model, and demonstrate your experience and data science skills.\n",
    "\n",
    "If need any clarification or have questions, feel free to reach out to Brendon at <brendon.hall@petro.ai>.\n",
    "\n",
    "## Data\n",
    "Petro.ai provides a download of well stats.  These are properties and attributes of the wells in the database.  These can be used as features to train predictive models. Well Stats contains one row per well with 100+ columns.  Don't worry, we won't use them all!\n",
    "\n",
    "Here is a brief description of some of the columns in well stats that we might consider for modeling.\n",
    " * `totalDrainage` - predicted drainage area for a well (using Petro.ai drainage model)\n",
    " * `prodOil12mo` - cumulative 12 month oil production\n",
    " * `avgHzDistAnyZone` - average distance to nearby wells\n",
    " * `latitude`, `longitude` - surface location of well head\n",
    " * `angleFromSHMax` - angle between well azimuth and maximum horizontal stress direction\n",
    "\n",
    "\n",
    "Well stats contains a raw download of all the wells in the collection.  There might be missing data, and we can transform these features before training a model.\n",
    "\n",
    "As a first step, let's read the file `data/part2/well_stats_delaware.csv` into a pandas dataframe."
   ]
  },
  {
   "cell_type": "code",
   "execution_count": 639,
   "metadata": {},
   "outputs": [
    {
     "name": "stdout",
     "output_type": "stream",
     "text": [
      "There are 2457 rows and 172 columns in the raw well stats file.\n"
     ]
    }
   ],
   "source": [
    "# read the well stats data, save to a pandas dataframe\n",
    "df = pd.read_csv('../data/part2/well_stats.csv') # answer\n",
    "\n",
    "# print the number of rows and columns in this dataframe.\n",
    "print(f\"There are {df.shape[0]} rows and {df.shape[1]} columns in the raw well stats file.\")"
   ]
  },
  {
   "cell_type": "markdown",
   "metadata": {},
   "source": [
    "Let's rename the `totalDrainage` column to `drainage_area` to be more clear."
   ]
  },
  {
   "cell_type": "code",
   "execution_count": 640,
   "metadata": {},
   "outputs": [],
   "source": [
    "# rename the 'totalDrainage' column to 'drainage_area'\n",
    "df.rename(columns={'totalDrainage':'drainage_area'}, inplace=True)"
   ]
  },
  {
   "cell_type": "markdown",
   "metadata": {},
   "source": [
    "## Data Exploration\n",
    "For an initial model we'll start with a few features from well stats described above:\n",
    "\n",
    "- drainage area\n",
    "- totalProppantByPerfLength\n",
    "- avgHzDistAnyZone\n",
    "- latitude\n",
    "- longitude\n",
    "- angleFromSHMax\n",
    "\n",
    "There are many more we can try, but this will get us started.  For the first model,\n",
    "let's try and predict 12 month cumulative oil production `prodOil12mo` directly.\n",
    "\n",
    "First, plot the distribution of these features with respect to the `prodOil12mo` target."
   ]
  },
  {
   "cell_type": "code",
   "execution_count": 641,
   "metadata": {},
   "outputs": [],
   "source": [
    "#feature_names = ['drainage_area', 'totalProppantByPerfLength', 'avgHzDistAnyZone', 'latitude', 'longitude', 'angleFromSHMax', 'lateralLength']\n",
    "#target = 'prodOil12mo'\n",
    "\n",
    "#g = sns.pairplot(df, x_vars=feature_names, y_vars=target, hue='interval')\n",
    "#plt.show()"
   ]
  },
  {
   "cell_type": "markdown",
   "metadata": {},
   "source": [
    "Did you notice any significant trends in these features?  Any outliers or potential issues? There are a number of wells with zero drainage, we'll filter those out.\n",
    "\n",
    "Feel free to experiment with other types of plots, features, etc.\n",
    "\n",
    "**[Debug Question]** In the next cell, we want to find the 12 mo. cumulative oil production for a specific well with `wellAPI` = 4200000036.  There is a bug in this code though.  Can you fix it to output the correct production amount?"
   ]
  },
  {
   "cell_type": "code",
   "execution_count": 642,
   "metadata": {},
   "outputs": [
    {
     "name": "stdout",
     "output_type": "stream",
     "text": [
      "The production of the well with API 4200000036 is: 227347.0\n"
     ]
    }
   ],
   "source": [
    "#well_production = df[df['wellAPI'] == \"4200000036\"][\"prodOil12mo\"].values[0]\n",
    "well_production = df.query('wellAPI == 4200000036')[\"prodOil12mo\"].item()\n",
    "print(\"The production of the well with API 4200000036 is:\", well_production)"
   ]
  },
  {
   "cell_type": "code",
   "execution_count": 643,
   "metadata": {},
   "outputs": [
    {
     "data": {
      "text/plain": [
       "drainage_area                  0\n",
       "totalProppantByPerfLength    525\n",
       "avgHzDistAnyZone               0\n",
       "latitude                       0\n",
       "longitude                      0\n",
       "angleFromSHMax                 0\n",
       "lateralLength                  6\n",
       "prodOil12mo                  154\n",
       "dtype: int64"
      ]
     },
     "execution_count": 643,
     "metadata": {},
     "output_type": "execute_result"
    }
   ],
   "source": [
    "df_model = df[['drainage_area', 'totalProppantByPerfLength', 'avgHzDistAnyZone', 'latitude', 'longitude', 'angleFromSHMax', 'lateralLength', 'prodOil12mo']]\n",
    "df_model.isna().sum()"
   ]
  },
  {
   "cell_type": "code",
   "execution_count": 644,
   "metadata": {},
   "outputs": [
    {
     "data": {
      "text/html": [
       "<div>\n",
       "<style scoped>\n",
       "    .dataframe tbody tr th:only-of-type {\n",
       "        vertical-align: middle;\n",
       "    }\n",
       "\n",
       "    .dataframe tbody tr th {\n",
       "        vertical-align: top;\n",
       "    }\n",
       "\n",
       "    .dataframe thead th {\n",
       "        text-align: right;\n",
       "    }\n",
       "</style>\n",
       "<table border=\"1\" class=\"dataframe\">\n",
       "  <thead>\n",
       "    <tr style=\"text-align: right;\">\n",
       "      <th></th>\n",
       "      <th>drainage_area</th>\n",
       "      <th>totalProppantByPerfLength</th>\n",
       "      <th>avgHzDistAnyZone</th>\n",
       "      <th>latitude</th>\n",
       "      <th>longitude</th>\n",
       "      <th>angleFromSHMax</th>\n",
       "      <th>lateralLength</th>\n",
       "      <th>prodOil12mo</th>\n",
       "    </tr>\n",
       "  </thead>\n",
       "  <tbody>\n",
       "    <tr>\n",
       "      <th>drainage_area</th>\n",
       "      <td>1.000000</td>\n",
       "      <td>-0.079115</td>\n",
       "      <td>0.204507</td>\n",
       "      <td>0.056612</td>\n",
       "      <td>-0.048259</td>\n",
       "      <td>0.020854</td>\n",
       "      <td>-0.091635</td>\n",
       "      <td>0.108534</td>\n",
       "    </tr>\n",
       "    <tr>\n",
       "      <th>totalProppantByPerfLength</th>\n",
       "      <td>-0.079115</td>\n",
       "      <td>1.000000</td>\n",
       "      <td>-0.297495</td>\n",
       "      <td>-0.164460</td>\n",
       "      <td>-0.199341</td>\n",
       "      <td>-0.061656</td>\n",
       "      <td>0.385214</td>\n",
       "      <td>0.335033</td>\n",
       "    </tr>\n",
       "    <tr>\n",
       "      <th>avgHzDistAnyZone</th>\n",
       "      <td>0.204507</td>\n",
       "      <td>-0.297495</td>\n",
       "      <td>1.000000</td>\n",
       "      <td>0.154756</td>\n",
       "      <td>-0.014669</td>\n",
       "      <td>-0.010518</td>\n",
       "      <td>-0.383163</td>\n",
       "      <td>-0.218147</td>\n",
       "    </tr>\n",
       "    <tr>\n",
       "      <th>latitude</th>\n",
       "      <td>0.056612</td>\n",
       "      <td>-0.164460</td>\n",
       "      <td>0.154756</td>\n",
       "      <td>1.000000</td>\n",
       "      <td>-0.450329</td>\n",
       "      <td>-0.105174</td>\n",
       "      <td>-0.218155</td>\n",
       "      <td>-0.185327</td>\n",
       "    </tr>\n",
       "    <tr>\n",
       "      <th>longitude</th>\n",
       "      <td>-0.048259</td>\n",
       "      <td>-0.199341</td>\n",
       "      <td>-0.014669</td>\n",
       "      <td>-0.450329</td>\n",
       "      <td>1.000000</td>\n",
       "      <td>0.110571</td>\n",
       "      <td>-0.036311</td>\n",
       "      <td>-0.045839</td>\n",
       "    </tr>\n",
       "    <tr>\n",
       "      <th>angleFromSHMax</th>\n",
       "      <td>0.020854</td>\n",
       "      <td>-0.061656</td>\n",
       "      <td>-0.010518</td>\n",
       "      <td>-0.105174</td>\n",
       "      <td>0.110571</td>\n",
       "      <td>1.000000</td>\n",
       "      <td>-0.051407</td>\n",
       "      <td>-0.031307</td>\n",
       "    </tr>\n",
       "    <tr>\n",
       "      <th>lateralLength</th>\n",
       "      <td>-0.091635</td>\n",
       "      <td>0.385214</td>\n",
       "      <td>-0.383163</td>\n",
       "      <td>-0.218155</td>\n",
       "      <td>-0.036311</td>\n",
       "      <td>-0.051407</td>\n",
       "      <td>1.000000</td>\n",
       "      <td>0.588168</td>\n",
       "    </tr>\n",
       "    <tr>\n",
       "      <th>prodOil12mo</th>\n",
       "      <td>0.108534</td>\n",
       "      <td>0.335033</td>\n",
       "      <td>-0.218147</td>\n",
       "      <td>-0.185327</td>\n",
       "      <td>-0.045839</td>\n",
       "      <td>-0.031307</td>\n",
       "      <td>0.588168</td>\n",
       "      <td>1.000000</td>\n",
       "    </tr>\n",
       "  </tbody>\n",
       "</table>\n",
       "</div>"
      ],
      "text/plain": [
       "                           drainage_area  totalProppantByPerfLength  \\\n",
       "drainage_area                   1.000000                  -0.079115   \n",
       "totalProppantByPerfLength      -0.079115                   1.000000   \n",
       "avgHzDistAnyZone                0.204507                  -0.297495   \n",
       "latitude                        0.056612                  -0.164460   \n",
       "longitude                      -0.048259                  -0.199341   \n",
       "angleFromSHMax                  0.020854                  -0.061656   \n",
       "lateralLength                  -0.091635                   0.385214   \n",
       "prodOil12mo                     0.108534                   0.335033   \n",
       "\n",
       "                           avgHzDistAnyZone  latitude  longitude  \\\n",
       "drainage_area                      0.204507  0.056612  -0.048259   \n",
       "totalProppantByPerfLength         -0.297495 -0.164460  -0.199341   \n",
       "avgHzDistAnyZone                   1.000000  0.154756  -0.014669   \n",
       "latitude                           0.154756  1.000000  -0.450329   \n",
       "longitude                         -0.014669 -0.450329   1.000000   \n",
       "angleFromSHMax                    -0.010518 -0.105174   0.110571   \n",
       "lateralLength                     -0.383163 -0.218155  -0.036311   \n",
       "prodOil12mo                       -0.218147 -0.185327  -0.045839   \n",
       "\n",
       "                           angleFromSHMax  lateralLength  prodOil12mo  \n",
       "drainage_area                    0.020854      -0.091635     0.108534  \n",
       "totalProppantByPerfLength       -0.061656       0.385214     0.335033  \n",
       "avgHzDistAnyZone                -0.010518      -0.383163    -0.218147  \n",
       "latitude                        -0.105174      -0.218155    -0.185327  \n",
       "longitude                        0.110571      -0.036311    -0.045839  \n",
       "angleFromSHMax                   1.000000      -0.051407    -0.031307  \n",
       "lateralLength                   -0.051407       1.000000     0.588168  \n",
       "prodOil12mo                     -0.031307       0.588168     1.000000  "
      ]
     },
     "execution_count": 644,
     "metadata": {},
     "output_type": "execute_result"
    }
   ],
   "source": [
    "df_model.corr()"
   ]
  },
  {
   "cell_type": "code",
   "execution_count": 645,
   "metadata": {},
   "outputs": [
    {
     "data": {
      "image/png": "[encoded data removed]",
      "text/plain": [
       "<Figure size 1080x720 with 2 Axes>"
      ]
     },
     "metadata": {
      "needs_background": "light"
     },
     "output_type": "display_data"
    }
   ],
   "source": [
    "corrmat = df_model.corr()\n",
    "top_corr_features = corrmat.index\n",
    "plt.figure(figsize = (15,10))\n",
    "\n",
    "g = sns.heatmap(df_model[top_corr_features].corr(), annot= True, cmap='RdYlGn')"
   ]
  },
  {
   "cell_type": "code",
   "execution_count": 646,
   "metadata": {},
   "outputs": [
    {
     "name": "stdout",
     "output_type": "stream",
     "text": [
      "(2457, 8)\n"
     ]
    },
    {
     "data": {
      "text/html": [
       "<div>\n",
       "<style scoped>\n",
       "    .dataframe tbody tr th:only-of-type {\n",
       "        vertical-align: middle;\n",
       "    }\n",
       "\n",
       "    .dataframe tbody tr th {\n",
       "        vertical-align: top;\n",
       "    }\n",
       "\n",
       "    .dataframe thead th {\n",
       "        text-align: right;\n",
       "    }\n",
       "</style>\n",
       "<table border=\"1\" class=\"dataframe\">\n",
       "  <thead>\n",
       "    <tr style=\"text-align: right;\">\n",
       "      <th></th>\n",
       "      <th>drainage_area</th>\n",
       "      <th>totalProppantByPerfLength</th>\n",
       "      <th>avgHzDistAnyZone</th>\n",
       "      <th>latitude</th>\n",
       "      <th>longitude</th>\n",
       "      <th>angleFromSHMax</th>\n",
       "      <th>lateralLength</th>\n",
       "      <th>prodOil12mo</th>\n",
       "    </tr>\n",
       "  </thead>\n",
       "  <tbody>\n",
       "    <tr>\n",
       "      <th>0</th>\n",
       "      <td>194838.58</td>\n",
       "      <td>2054.4040</td>\n",
       "      <td>1230.63430</td>\n",
       "      <td>36.389086</td>\n",
       "      <td>-113.386406</td>\n",
       "      <td>119</td>\n",
       "      <td>9247.0</td>\n",
       "      <td>132413.0000</td>\n",
       "    </tr>\n",
       "    <tr>\n",
       "      <th>1</th>\n",
       "      <td>344069.84</td>\n",
       "      <td>NaN</td>\n",
       "      <td>1350.47670</td>\n",
       "      <td>36.390055</td>\n",
       "      <td>-113.292040</td>\n",
       "      <td>121</td>\n",
       "      <td>9326.0</td>\n",
       "      <td>334629.0000</td>\n",
       "    </tr>\n",
       "    <tr>\n",
       "      <th>2</th>\n",
       "      <td>346702.40</td>\n",
       "      <td>1445.6741</td>\n",
       "      <td>2500.00000</td>\n",
       "      <td>36.371887</td>\n",
       "      <td>-113.457380</td>\n",
       "      <td>118</td>\n",
       "      <td>9163.0</td>\n",
       "      <td>185974.0000</td>\n",
       "    </tr>\n",
       "    <tr>\n",
       "      <th>3</th>\n",
       "      <td>343703.38</td>\n",
       "      <td>NaN</td>\n",
       "      <td>2500.00000</td>\n",
       "      <td>36.765614</td>\n",
       "      <td>-113.568970</td>\n",
       "      <td>133</td>\n",
       "      <td>NaN</td>\n",
       "      <td>18689.0000</td>\n",
       "    </tr>\n",
       "    <tr>\n",
       "      <th>4</th>\n",
       "      <td>346629.38</td>\n",
       "      <td>2625.1914</td>\n",
       "      <td>1311.51060</td>\n",
       "      <td>36.378030</td>\n",
       "      <td>-113.521040</td>\n",
       "      <td>59</td>\n",
       "      <td>6713.0</td>\n",
       "      <td>NaN</td>\n",
       "    </tr>\n",
       "    <tr>\n",
       "      <th>...</th>\n",
       "      <td>...</td>\n",
       "      <td>...</td>\n",
       "      <td>...</td>\n",
       "      <td>...</td>\n",
       "      <td>...</td>\n",
       "      <td>...</td>\n",
       "      <td>...</td>\n",
       "      <td>...</td>\n",
       "    </tr>\n",
       "    <tr>\n",
       "      <th>2452</th>\n",
       "      <td>0.00</td>\n",
       "      <td>NaN</td>\n",
       "      <td>2500.00000</td>\n",
       "      <td>36.599530</td>\n",
       "      <td>-113.329620</td>\n",
       "      <td>131</td>\n",
       "      <td>3433.0</td>\n",
       "      <td>46537.2700</td>\n",
       "    </tr>\n",
       "    <tr>\n",
       "      <th>2453</th>\n",
       "      <td>343003.80</td>\n",
       "      <td>NaN</td>\n",
       "      <td>1850.67350</td>\n",
       "      <td>36.436480</td>\n",
       "      <td>-113.250910</td>\n",
       "      <td>90</td>\n",
       "      <td>2168.0</td>\n",
       "      <td>104259.6950</td>\n",
       "    </tr>\n",
       "    <tr>\n",
       "      <th>2454</th>\n",
       "      <td>288406.78</td>\n",
       "      <td>2002.8323</td>\n",
       "      <td>936.39014</td>\n",
       "      <td>36.450010</td>\n",
       "      <td>-113.243910</td>\n",
       "      <td>91</td>\n",
       "      <td>9540.0</td>\n",
       "      <td>99119.4100</td>\n",
       "    </tr>\n",
       "    <tr>\n",
       "      <th>2455</th>\n",
       "      <td>346098.22</td>\n",
       "      <td>NaN</td>\n",
       "      <td>2496.40060</td>\n",
       "      <td>36.629090</td>\n",
       "      <td>-113.323060</td>\n",
       "      <td>55</td>\n",
       "      <td>NaN</td>\n",
       "      <td>7870.9844</td>\n",
       "    </tr>\n",
       "    <tr>\n",
       "      <th>2456</th>\n",
       "      <td>336834.72</td>\n",
       "      <td>NaN</td>\n",
       "      <td>2500.00000</td>\n",
       "      <td>36.424810</td>\n",
       "      <td>-113.247130</td>\n",
       "      <td>89</td>\n",
       "      <td>3580.0</td>\n",
       "      <td>75411.2400</td>\n",
       "    </tr>\n",
       "  </tbody>\n",
       "</table>\n",
       "<p>2457 rows × 8 columns</p>\n",
       "</div>"
      ],
      "text/plain": [
       "      drainage_area  totalProppantByPerfLength  avgHzDistAnyZone   latitude  \\\n",
       "0         194838.58                  2054.4040        1230.63430  36.389086   \n",
       "1         344069.84                        NaN        1350.47670  36.390055   \n",
       "2         346702.40                  1445.6741        2500.00000  36.371887   \n",
       "3         343703.38                        NaN        2500.00000  36.765614   \n",
       "4         346629.38                  2625.1914        1311.51060  36.378030   \n",
       "...             ...                        ...               ...        ...   \n",
       "2452           0.00                        NaN        2500.00000  36.599530   \n",
       "2453      343003.80                        NaN        1850.67350  36.436480   \n",
       "2454      288406.78                  2002.8323         936.39014  36.450010   \n",
       "2455      346098.22                        NaN        2496.40060  36.629090   \n",
       "2456      336834.72                        NaN        2500.00000  36.424810   \n",
       "\n",
       "       longitude  angleFromSHMax  lateralLength  prodOil12mo  \n",
       "0    -113.386406             119         9247.0  132413.0000  \n",
       "1    -113.292040             121         9326.0  334629.0000  \n",
       "2    -113.457380             118         9163.0  185974.0000  \n",
       "3    -113.568970             133            NaN   18689.0000  \n",
       "4    -113.521040              59         6713.0          NaN  \n",
       "...          ...             ...            ...          ...  \n",
       "2452 -113.329620             131         3433.0   46537.2700  \n",
       "2453 -113.250910              90         2168.0  104259.6950  \n",
       "2454 -113.243910              91         9540.0   99119.4100  \n",
       "2455 -113.323060              55            NaN    7870.9844  \n",
       "2456 -113.247130              89         3580.0   75411.2400  \n",
       "\n",
       "[2457 rows x 8 columns]"
      ]
     },
     "execution_count": 646,
     "metadata": {},
     "output_type": "execute_result"
    }
   ],
   "source": [
    "print(df_model.shape)\n",
    "df_model"
   ]
  },
  {
   "cell_type": "markdown",
   "metadata": {},
   "source": [
    "## Data Filtering\n",
    "\n",
    "Remove any wells with zero drainage_area from the dataset."
   ]
  },
  {
   "cell_type": "code",
   "execution_count": 647,
   "metadata": {},
   "outputs": [],
   "source": [
    "# Remove wells with zero drainage area\n",
    "df_model = df_model[df_model['drainage_area'] > 0]"
   ]
  },
  {
   "cell_type": "markdown",
   "metadata": {},
   "source": [
    "Now remove any wells that are missing data for any of the features or target from the dataset.  How many wells are left in the dataset?"
   ]
  },
  {
   "cell_type": "code",
   "execution_count": 648,
   "metadata": {},
   "outputs": [
    {
     "name": "stdout",
     "output_type": "stream",
     "text": [
      "There are 1798 rows in the cleaned well stats file.\n"
     ]
    }
   ],
   "source": [
    "# Remove wells missing features or production\n",
    "df_model = df_model.dropna(inplace=False)\n",
    "print(f\"There are {df_model.shape[0]} rows in the cleaned well stats file.\")"
   ]
  },
  {
   "cell_type": "code",
   "execution_count": 649,
   "metadata": {},
   "outputs": [],
   "source": [
    "#df_model"
   ]
  },
  {
   "cell_type": "code",
   "execution_count": 650,
   "metadata": {},
   "outputs": [
    {
     "name": "stdout",
     "output_type": "stream",
     "text": [
      "Index(['drainage_area', 'totalProppantByPerfLength', 'avgHzDistAnyZone',\n",
      "       'latitude', 'longitude', 'angleFromSHMax', 'lateralLength',\n",
      "       'prodOil12mo'],\n",
      "      dtype='object')\n"
     ]
    }
   ],
   "source": [
    "print(df_model.columns)"
   ]
  },
  {
   "cell_type": "code",
   "execution_count": 651,
   "metadata": {},
   "outputs": [],
   "source": [
    "features = df_model[['drainage_area', 'totalProppantByPerfLength', 'avgHzDistAnyZone','latitude','longitude','angleFromSHMax','lateralLength']]\n",
    "target = df_model[['prodOil12mo']]"
   ]
  },
  {
   "cell_type": "code",
   "execution_count": 652,
   "metadata": {},
   "outputs": [
    {
     "name": "stdout",
     "output_type": "stream",
     "text": [
      "                            OLS Regression Results                            \n",
      "==============================================================================\n",
      "Dep. Variable:            prodOil12mo   R-squared:                       0.386\n",
      "Model:                            OLS   Adj. R-squared:                  0.384\n",
      "Method:                 Least Squares   F-statistic:                     160.9\n",
      "Date:                Tue, 02 Aug 2022   Prob (F-statistic):          1.24e-184\n",
      "Time:                        07:22:58   Log-Likelihood:                -22371.\n",
      "No. Observations:                1798   AIC:                         4.476e+04\n",
      "Df Residuals:                    1790   BIC:                         4.480e+04\n",
      "Df Model:                           7                                         \n",
      "Covariance Type:            nonrobust                                         \n",
      "=============================================================================================\n",
      "                                coef    std err          t      P>|t|      [0.025      0.975]\n",
      "---------------------------------------------------------------------------------------------\n",
      "Intercept                 -3.846e+05   1.12e+06     -0.343      0.731   -2.58e+06    1.81e+06\n",
      "drainage_area                 0.3118      0.030     10.450      0.000       0.253       0.370\n",
      "totalProppantByPerfLength    10.0625      1.665      6.045      0.000       6.798      13.327\n",
      "avgHzDistAnyZone              0.8460      2.649      0.319      0.749      -4.349       6.041\n",
      "angleFromSHMax               39.4373     45.341      0.870      0.385     -49.489     128.364\n",
      "lateralLength                16.6542      0.660     25.252      0.000      15.361      17.948\n",
      "latitude                  -4.489e+04   1.21e+04     -3.713      0.000   -6.86e+04   -2.12e+04\n",
      "longitude                 -1.699e+04   1.11e+04     -1.527      0.127   -3.88e+04    4832.150\n",
      "==============================================================================\n",
      "Omnibus:                      215.580   Durbin-Watson:                   1.960\n",
      "Prob(Omnibus):                  0.000   Jarque-Bera (JB):              375.578\n",
      "Skew:                           0.793   Prob(JB):                     2.78e-82\n",
      "Kurtosis:                       4.580   Cond. No.                     2.58e+08\n",
      "==============================================================================\n",
      "\n",
      "Notes:\n",
      "[1] Standard Errors assume that the covariance matrix of the errors is correctly specified.\n",
      "[2] The condition number is large, 2.58e+08. This might indicate that there are\n",
      "strong multicollinearity or other numerical problems.\n"
     ]
    }
   ],
   "source": [
    "import statsmodels.formula.api as smf\n",
    "model = smf.ols(formula='prodOil12mo ~ drainage_area + totalProppantByPerfLength + avgHzDistAnyZone + angleFromSHMax + lateralLength + latitude + longitude', data = df_model)\n",
    "results = model.fit()\n",
    "print(results.summary())"
   ]
  },
  {
   "cell_type": "code",
   "execution_count": 653,
   "metadata": {},
   "outputs": [],
   "source": [
    "# import statsmodels.formula.api as smf\n",
    "# model = smf.ols(formula='prodOil12mo ~ drainage_area + totalProppantByPerfLength + avgHzDistAnyZone + angleFromSHMax + lateralLength', data = df_model)\n",
    "# results = model.fit()\n",
    "# print(results.summary())"
   ]
  },
  {
   "cell_type": "markdown",
   "metadata": {},
   "source": [
    "# Transforming the Data"
   ]
  },
  {
   "cell_type": "code",
   "execution_count": 654,
   "metadata": {},
   "outputs": [
    {
     "name": "stdout",
     "output_type": "stream",
     "text": [
      "(1798, 7)\n",
      "(1798, 1)\n"
     ]
    }
   ],
   "source": [
    "from sklearn import preprocessing\n",
    "scaler = preprocessing.MinMaxScaler(feature_range=(0,1))\n",
    "x_scale = pd.DataFrame(scaler.fit_transform(features), columns = ['drainage_area', 'totalProppantByPerfLength', 'avgHzDistAnyZone','latitude', 'longitude', 'angleFromSHMax', 'lateralLength'])\n",
    "y_scale = pd.DataFrame(scaler.fit_transform(target), columns = ['prodOil12mo'])\n",
    "#df_scaled = scaler.transform(df_model)\n",
    "print(x_scale.shape)\n",
    "print(y_scale.shape)"
   ]
  },
  {
   "cell_type": "markdown",
   "metadata": {},
   "source": [
    "## Prepare Training Data\n",
    "\n",
    "Now the dataset is ready to train a model.  Extract the features, $X$, and the \"target\" to be predicted, $y$, from the dataframe.  For now, we'll randomly select a third of the wells and set them aside to test the accuracy of the model.  We'll use the remainder as training data."
   ]
  },
  {
   "cell_type": "code",
   "execution_count": 655,
   "metadata": {},
   "outputs": [],
   "source": [
    "from sklearn.model_selection import train_test_split\n",
    "\n",
    "X_train, X_test, y_train, y_test = train_test_split(\n",
    "    x_scale, y_scale, test_size=0.30, random_state=42)"
   ]
  },
  {
   "cell_type": "code",
   "execution_count": 656,
   "metadata": {},
   "outputs": [],
   "source": [
    "X_train_inv = scaler.inverse_transform(X_train)"
   ]
  },
  {
   "cell_type": "code",
   "execution_count": 657,
   "metadata": {},
   "outputs": [
    {
     "data": {
      "text/html": [
       "<div>\n",
       "<style scoped>\n",
       "    .dataframe tbody tr th:only-of-type {\n",
       "        vertical-align: middle;\n",
       "    }\n",
       "\n",
       "    .dataframe tbody tr th {\n",
       "        vertical-align: top;\n",
       "    }\n",
       "\n",
       "    .dataframe thead th {\n",
       "        text-align: right;\n",
       "    }\n",
       "</style>\n",
       "<table border=\"1\" class=\"dataframe\">\n",
       "  <thead>\n",
       "    <tr style=\"text-align: right;\">\n",
       "      <th></th>\n",
       "      <th>drainage_area</th>\n",
       "      <th>totalProppantByPerfLength</th>\n",
       "      <th>avgHzDistAnyZone</th>\n",
       "      <th>latitude</th>\n",
       "      <th>longitude</th>\n",
       "      <th>angleFromSHMax</th>\n",
       "      <th>lateralLength</th>\n",
       "    </tr>\n",
       "  </thead>\n",
       "  <tbody>\n",
       "    <tr>\n",
       "      <th>0</th>\n",
       "      <td>283500.657302</td>\n",
       "      <td>38508.696285</td>\n",
       "      <td>365199.007239</td>\n",
       "      <td>102267.928431</td>\n",
       "      <td>285109.063408</td>\n",
       "      <td>140158.105263</td>\n",
       "      <td>192827.393374</td>\n",
       "    </tr>\n",
       "    <tr>\n",
       "      <th>1</th>\n",
       "      <td>216012.729843</td>\n",
       "      <td>69043.299557</td>\n",
       "      <td>235913.709162</td>\n",
       "      <td>94837.866379</td>\n",
       "      <td>276192.420768</td>\n",
       "      <td>137074.947368</td>\n",
       "      <td>286446.171467</td>\n",
       "    </tr>\n",
       "    <tr>\n",
       "      <th>2</th>\n",
       "      <td>294740.880956</td>\n",
       "      <td>11485.074830</td>\n",
       "      <td>470056.000000</td>\n",
       "      <td>175504.165212</td>\n",
       "      <td>312221.858768</td>\n",
       "      <td>223403.368421</td>\n",
       "      <td>51619.069752</td>\n",
       "    </tr>\n",
       "    <tr>\n",
       "      <th>3</th>\n",
       "      <td>297943.387881</td>\n",
       "      <td>83788.435434</td>\n",
       "      <td>92590.583816</td>\n",
       "      <td>129426.302721</td>\n",
       "      <td>179893.999775</td>\n",
       "      <td>180239.157895</td>\n",
       "      <td>291127.110371</td>\n",
       "    </tr>\n",
       "    <tr>\n",
       "      <th>4</th>\n",
       "      <td>270506.865028</td>\n",
       "      <td>82812.355922</td>\n",
       "      <td>332776.484566</td>\n",
       "      <td>193737.677372</td>\n",
       "      <td>167121.065886</td>\n",
       "      <td>303565.473684</td>\n",
       "      <td>68236.402863</td>\n",
       "    </tr>\n",
       "    <tr>\n",
       "      <th>...</th>\n",
       "      <td>...</td>\n",
       "      <td>...</td>\n",
       "      <td>...</td>\n",
       "      <td>...</td>\n",
       "      <td>...</td>\n",
       "      <td>...</td>\n",
       "      <td>...</td>\n",
       "    </tr>\n",
       "    <tr>\n",
       "      <th>1253</th>\n",
       "      <td>283903.156282</td>\n",
       "      <td>43859.093559</td>\n",
       "      <td>200742.590717</td>\n",
       "      <td>325711.397214</td>\n",
       "      <td>230451.330555</td>\n",
       "      <td>328230.736842</td>\n",
       "      <td>84073.579491</td>\n",
       "    </tr>\n",
       "    <tr>\n",
       "      <th>1254</th>\n",
       "      <td>145360.423066</td>\n",
       "      <td>15046.210545</td>\n",
       "      <td>240319.161103</td>\n",
       "      <td>100929.154276</td>\n",
       "      <td>294728.349364</td>\n",
       "      <td>143241.263158</td>\n",
       "      <td>214983.837523</td>\n",
       "    </tr>\n",
       "    <tr>\n",
       "      <th>1255</th>\n",
       "      <td>241666.293350</td>\n",
       "      <td>64639.400724</td>\n",
       "      <td>215022.637906</td>\n",
       "      <td>361599.152880</td>\n",
       "      <td>66048.628900</td>\n",
       "      <td>408392.842105</td>\n",
       "      <td>295456.978858</td>\n",
       "    </tr>\n",
       "    <tr>\n",
       "      <th>1256</th>\n",
       "      <td>324424.678624</td>\n",
       "      <td>49906.808250</td>\n",
       "      <td>390772.537309</td>\n",
       "      <td>292685.013503</td>\n",
       "      <td>317127.826557</td>\n",
       "      <td>106243.368421</td>\n",
       "      <td>288435.570501</td>\n",
       "    </tr>\n",
       "    <tr>\n",
       "      <th>1257</th>\n",
       "      <td>470056.000000</td>\n",
       "      <td>55801.671428</td>\n",
       "      <td>102391.812164</td>\n",
       "      <td>322395.398003</td>\n",
       "      <td>119341.320419</td>\n",
       "      <td>63079.157895</td>\n",
       "      <td>282545.389046</td>\n",
       "    </tr>\n",
       "  </tbody>\n",
       "</table>\n",
       "<p>1258 rows × 7 columns</p>\n",
       "</div>"
      ],
      "text/plain": [
       "      drainage_area  totalProppantByPerfLength  avgHzDistAnyZone  \\\n",
       "0     283500.657302               38508.696285     365199.007239   \n",
       "1     216012.729843               69043.299557     235913.709162   \n",
       "2     294740.880956               11485.074830     470056.000000   \n",
       "3     297943.387881               83788.435434      92590.583816   \n",
       "4     270506.865028               82812.355922     332776.484566   \n",
       "...             ...                        ...               ...   \n",
       "1253  283903.156282               43859.093559     200742.590717   \n",
       "1254  145360.423066               15046.210545     240319.161103   \n",
       "1255  241666.293350               64639.400724     215022.637906   \n",
       "1256  324424.678624               49906.808250     390772.537309   \n",
       "1257  470056.000000               55801.671428     102391.812164   \n",
       "\n",
       "           latitude      longitude  angleFromSHMax  lateralLength  \n",
       "0     102267.928431  285109.063408   140158.105263  192827.393374  \n",
       "1      94837.866379  276192.420768   137074.947368  286446.171467  \n",
       "2     175504.165212  312221.858768   223403.368421   51619.069752  \n",
       "3     129426.302721  179893.999775   180239.157895  291127.110371  \n",
       "4     193737.677372  167121.065886   303565.473684   68236.402863  \n",
       "...             ...            ...             ...            ...  \n",
       "1253  325711.397214  230451.330555   328230.736842   84073.579491  \n",
       "1254  100929.154276  294728.349364   143241.263158  214983.837523  \n",
       "1255  361599.152880   66048.628900   408392.842105  295456.978858  \n",
       "1256  292685.013503  317127.826557   106243.368421  288435.570501  \n",
       "1257  322395.398003  119341.320419    63079.157895  282545.389046  \n",
       "\n",
       "[1258 rows x 7 columns]"
      ]
     },
     "execution_count": 657,
     "metadata": {},
     "output_type": "execute_result"
    }
   ],
   "source": [
    "X_train_inv = pd.DataFrame(X_train_inv, columns =['drainage_area', 'totalProppantByPerfLength', 'avgHzDistAnyZone','latitude','longitude','angleFromSHMax','lateralLength'])\n",
    "X_train_inv"
   ]
  },
  {
   "cell_type": "code",
   "execution_count": 658,
   "metadata": {},
   "outputs": [
    {
     "name": "stdout",
     "output_type": "stream",
     "text": [
      "Train (1258, 7) (1258, 1)\n",
      "Test (540, 7) (540, 1)\n"
     ]
    }
   ],
   "source": [
    "print('Train', X_train.shape, y_train.shape)\n",
    "print('Test', X_test.shape, y_test.shape)"
   ]
  },
  {
   "cell_type": "markdown",
   "metadata": {},
   "source": [
    "## Train Random Linear Regression\n",
    "\n",
    "Let's start simple. We'll build a simple random forest model and take a look at the prediction accuracy. "
   ]
  },
  {
   "cell_type": "code",
   "execution_count": 659,
   "metadata": {},
   "outputs": [],
   "source": [
    "from sklearn.linear_model import LinearRegression\n",
    "\n",
    "# lr = LinearRegression()\n",
    "# lr.fit(X_train,y_train)"
   ]
  },
  {
   "cell_type": "code",
   "execution_count": 660,
   "metadata": {},
   "outputs": [
    {
     "name": "stdout",
     "output_type": "stream",
     "text": [
      "Fitting 5 folds for each of 9 candidates, totalling 45 fits\n"
     ]
    },
    {
     "data": {
      "text/plain": [
       "GridSearchCV(cv=KFold(n_splits=5, random_state=100, shuffle=True),\n",
       "             estimator=RFE(estimator=LinearRegression()),\n",
       "             param_grid=[{'n_features_to_select': [1, 2, 3, 4, 5, 6, 7, 8, 9]}],\n",
       "             return_train_score=True, scoring='r2', verbose=1)"
      ]
     },
     "execution_count": 660,
     "metadata": {},
     "output_type": "execute_result"
    }
   ],
   "source": [
    "from sklearn.feature_selection import RFE\n",
    "from sklearn.model_selection import cross_val_score\n",
    "from sklearn.model_selection import KFold\n",
    "from sklearn.model_selection import GridSearchCV\n",
    "from sklearn.pipeline import make_pipeline\n",
    "\n",
    "# step-1: create a cross-validation scheme\n",
    "folds = KFold(n_splits = 5, shuffle = True, random_state = 100)\n",
    "\n",
    "# step-2: specify range of hyperparameters to tune\n",
    "hyper_params = [{'n_features_to_select': list(range(1, 10))}]\n",
    "\n",
    "# step-3: perform grid search\n",
    "# 3.1 specify model\n",
    "lr2 = LinearRegression()\n",
    "lr2.fit(X_train, y_train)\n",
    "rfe = RFE(lr2)             \n",
    "\n",
    "# 3.2 call GridSearchCV()\n",
    "model_cv = GridSearchCV(estimator = rfe, \n",
    "    param_grid = hyper_params, \n",
    "    scoring= 'r2', \n",
    "    cv = folds, \n",
    "    verbose = 1,\n",
    "    return_train_score=True)\n",
    "\n",
    "# fit the model\n",
    "model_cv.fit(X_train, y_train)"
   ]
  },
  {
   "cell_type": "code",
   "execution_count": 661,
   "metadata": {},
   "outputs": [
    {
     "data": {
      "text/html": [
       "<div>\n",
       "<style scoped>\n",
       "    .dataframe tbody tr th:only-of-type {\n",
       "        vertical-align: middle;\n",
       "    }\n",
       "\n",
       "    .dataframe tbody tr th {\n",
       "        vertical-align: top;\n",
       "    }\n",
       "\n",
       "    .dataframe thead th {\n",
       "        text-align: right;\n",
       "    }\n",
       "</style>\n",
       "<table border=\"1\" class=\"dataframe\">\n",
       "  <thead>\n",
       "    <tr style=\"text-align: right;\">\n",
       "      <th></th>\n",
       "      <th>mean_fit_time</th>\n",
       "      <th>std_fit_time</th>\n",
       "      <th>mean_score_time</th>\n",
       "      <th>std_score_time</th>\n",
       "      <th>param_n_features_to_select</th>\n",
       "      <th>params</th>\n",
       "      <th>split0_test_score</th>\n",
       "      <th>split1_test_score</th>\n",
       "      <th>split2_test_score</th>\n",
       "      <th>split3_test_score</th>\n",
       "      <th>...</th>\n",
       "      <th>mean_test_score</th>\n",
       "      <th>std_test_score</th>\n",
       "      <th>rank_test_score</th>\n",
       "      <th>split0_train_score</th>\n",
       "      <th>split1_train_score</th>\n",
       "      <th>split2_train_score</th>\n",
       "      <th>split3_train_score</th>\n",
       "      <th>split4_train_score</th>\n",
       "      <th>mean_train_score</th>\n",
       "      <th>std_train_score</th>\n",
       "    </tr>\n",
       "  </thead>\n",
       "  <tbody>\n",
       "    <tr>\n",
       "      <th>0</th>\n",
       "      <td>0.007779</td>\n",
       "      <td>0.001934</td>\n",
       "      <td>0.002194</td>\n",
       "      <td>3.994704e-04</td>\n",
       "      <td>1</td>\n",
       "      <td>{'n_features_to_select': 1}</td>\n",
       "      <td>0.351510</td>\n",
       "      <td>0.066171</td>\n",
       "      <td>0.345328</td>\n",
       "      <td>0.115756</td>\n",
       "      <td>...</td>\n",
       "      <td>0.229835</td>\n",
       "      <td>0.117974</td>\n",
       "      <td>9</td>\n",
       "      <td>0.342424</td>\n",
       "      <td>0.142937</td>\n",
       "      <td>0.344183</td>\n",
       "      <td>0.129715</td>\n",
       "      <td>0.362712</td>\n",
       "      <td>0.264394</td>\n",
       "      <td>0.104892</td>\n",
       "    </tr>\n",
       "    <tr>\n",
       "      <th>1</th>\n",
       "      <td>0.007579</td>\n",
       "      <td>0.001738</td>\n",
       "      <td>0.002992</td>\n",
       "      <td>6.312791e-04</td>\n",
       "      <td>2</td>\n",
       "      <td>{'n_features_to_select': 2}</td>\n",
       "      <td>0.369775</td>\n",
       "      <td>0.374827</td>\n",
       "      <td>0.382569</td>\n",
       "      <td>0.365017</td>\n",
       "      <td>...</td>\n",
       "      <td>0.355774</td>\n",
       "      <td>0.035032</td>\n",
       "      <td>8</td>\n",
       "      <td>0.358409</td>\n",
       "      <td>0.356270</td>\n",
       "      <td>0.354453</td>\n",
       "      <td>0.359770</td>\n",
       "      <td>0.379386</td>\n",
       "      <td>0.361658</td>\n",
       "      <td>0.009048</td>\n",
       "    </tr>\n",
       "    <tr>\n",
       "      <th>2</th>\n",
       "      <td>0.005580</td>\n",
       "      <td>0.001355</td>\n",
       "      <td>0.002393</td>\n",
       "      <td>7.981779e-04</td>\n",
       "      <td>3</td>\n",
       "      <td>{'n_features_to_select': 3}</td>\n",
       "      <td>0.398531</td>\n",
       "      <td>0.411278</td>\n",
       "      <td>0.385996</td>\n",
       "      <td>0.430233</td>\n",
       "      <td>...</td>\n",
       "      <td>0.396485</td>\n",
       "      <td>0.024819</td>\n",
       "      <td>7</td>\n",
       "      <td>0.401847</td>\n",
       "      <td>0.397919</td>\n",
       "      <td>0.403632</td>\n",
       "      <td>0.394703</td>\n",
       "      <td>0.412409</td>\n",
       "      <td>0.402102</td>\n",
       "      <td>0.006015</td>\n",
       "    </tr>\n",
       "    <tr>\n",
       "      <th>3</th>\n",
       "      <td>0.006781</td>\n",
       "      <td>0.000399</td>\n",
       "      <td>0.002992</td>\n",
       "      <td>2.780415e-07</td>\n",
       "      <td>4</td>\n",
       "      <td>{'n_features_to_select': 4}</td>\n",
       "      <td>0.401053</td>\n",
       "      <td>0.411302</td>\n",
       "      <td>0.390371</td>\n",
       "      <td>0.428370</td>\n",
       "      <td>...</td>\n",
       "      <td>0.398453</td>\n",
       "      <td>0.022460</td>\n",
       "      <td>5</td>\n",
       "      <td>0.404492</td>\n",
       "      <td>0.399838</td>\n",
       "      <td>0.405691</td>\n",
       "      <td>0.398162</td>\n",
       "      <td>0.414466</td>\n",
       "      <td>0.404530</td>\n",
       "      <td>0.005703</td>\n",
       "    </tr>\n",
       "    <tr>\n",
       "      <th>4</th>\n",
       "      <td>0.004987</td>\n",
       "      <td>0.001411</td>\n",
       "      <td>0.002792</td>\n",
       "      <td>7.467736e-04</td>\n",
       "      <td>5</td>\n",
       "      <td>{'n_features_to_select': 5}</td>\n",
       "      <td>0.402212</td>\n",
       "      <td>0.412238</td>\n",
       "      <td>0.383623</td>\n",
       "      <td>0.425190</td>\n",
       "      <td>...</td>\n",
       "      <td>0.397051</td>\n",
       "      <td>0.022175</td>\n",
       "      <td>6</td>\n",
       "      <td>0.404984</td>\n",
       "      <td>0.402009</td>\n",
       "      <td>0.407677</td>\n",
       "      <td>0.399467</td>\n",
       "      <td>0.415017</td>\n",
       "      <td>0.405831</td>\n",
       "      <td>0.005360</td>\n",
       "    </tr>\n",
       "    <tr>\n",
       "      <th>5</th>\n",
       "      <td>0.003402</td>\n",
       "      <td>0.001361</td>\n",
       "      <td>0.002194</td>\n",
       "      <td>3.993537e-04</td>\n",
       "      <td>6</td>\n",
       "      <td>{'n_features_to_select': 6}</td>\n",
       "      <td>0.403226</td>\n",
       "      <td>0.414387</td>\n",
       "      <td>0.384661</td>\n",
       "      <td>0.424639</td>\n",
       "      <td>...</td>\n",
       "      <td>0.399027</td>\n",
       "      <td>0.020322</td>\n",
       "      <td>4</td>\n",
       "      <td>0.407910</td>\n",
       "      <td>0.404400</td>\n",
       "      <td>0.408754</td>\n",
       "      <td>0.402615</td>\n",
       "      <td>0.416460</td>\n",
       "      <td>0.408028</td>\n",
       "      <td>0.004777</td>\n",
       "    </tr>\n",
       "    <tr>\n",
       "      <th>6</th>\n",
       "      <td>0.004782</td>\n",
       "      <td>0.001718</td>\n",
       "      <td>0.003790</td>\n",
       "      <td>9.776030e-04</td>\n",
       "      <td>7</td>\n",
       "      <td>{'n_features_to_select': 7}</td>\n",
       "      <td>0.404465</td>\n",
       "      <td>0.415844</td>\n",
       "      <td>0.389318</td>\n",
       "      <td>0.425786</td>\n",
       "      <td>...</td>\n",
       "      <td>0.400939</td>\n",
       "      <td>0.019946</td>\n",
       "      <td>1</td>\n",
       "      <td>0.408207</td>\n",
       "      <td>0.404620</td>\n",
       "      <td>0.409959</td>\n",
       "      <td>0.403041</td>\n",
       "      <td>0.416853</td>\n",
       "      <td>0.408536</td>\n",
       "      <td>0.004834</td>\n",
       "    </tr>\n",
       "    <tr>\n",
       "      <th>7</th>\n",
       "      <td>0.005186</td>\n",
       "      <td>0.000399</td>\n",
       "      <td>0.002793</td>\n",
       "      <td>3.986606e-04</td>\n",
       "      <td>8</td>\n",
       "      <td>{'n_features_to_select': 8}</td>\n",
       "      <td>0.404465</td>\n",
       "      <td>0.415844</td>\n",
       "      <td>0.389318</td>\n",
       "      <td>0.425786</td>\n",
       "      <td>...</td>\n",
       "      <td>0.400939</td>\n",
       "      <td>0.019946</td>\n",
       "      <td>1</td>\n",
       "      <td>0.408207</td>\n",
       "      <td>0.404620</td>\n",
       "      <td>0.409959</td>\n",
       "      <td>0.403041</td>\n",
       "      <td>0.416853</td>\n",
       "      <td>0.408536</td>\n",
       "      <td>0.004834</td>\n",
       "    </tr>\n",
       "    <tr>\n",
       "      <th>8</th>\n",
       "      <td>0.004787</td>\n",
       "      <td>0.000746</td>\n",
       "      <td>0.003391</td>\n",
       "      <td>4.890257e-04</td>\n",
       "      <td>9</td>\n",
       "      <td>{'n_features_to_select': 9}</td>\n",
       "      <td>0.404465</td>\n",
       "      <td>0.415844</td>\n",
       "      <td>0.389318</td>\n",
       "      <td>0.425786</td>\n",
       "      <td>...</td>\n",
       "      <td>0.400939</td>\n",
       "      <td>0.019946</td>\n",
       "      <td>1</td>\n",
       "      <td>0.408207</td>\n",
       "      <td>0.404620</td>\n",
       "      <td>0.409959</td>\n",
       "      <td>0.403041</td>\n",
       "      <td>0.416853</td>\n",
       "      <td>0.408536</td>\n",
       "      <td>0.004834</td>\n",
       "    </tr>\n",
       "  </tbody>\n",
       "</table>\n",
       "<p>9 rows × 21 columns</p>\n",
       "</div>"
      ],
      "text/plain": [
       "   mean_fit_time  std_fit_time  mean_score_time  std_score_time  \\\n",
       "0       0.007779      0.001934         0.002194    3.994704e-04   \n",
       "1       0.007579      0.001738         0.002992    6.312791e-04   \n",
       "2       0.005580      0.001355         0.002393    7.981779e-04   \n",
       "3       0.006781      0.000399         0.002992    2.780415e-07   \n",
       "4       0.004987      0.001411         0.002792    7.467736e-04   \n",
       "5       0.003402      0.001361         0.002194    3.993537e-04   \n",
       "6       0.004782      0.001718         0.003790    9.776030e-04   \n",
       "7       0.005186      0.000399         0.002793    3.986606e-04   \n",
       "8       0.004787      0.000746         0.003391    4.890257e-04   \n",
       "\n",
       "  param_n_features_to_select                       params  split0_test_score  \\\n",
       "0                          1  {'n_features_to_select': 1}           0.351510   \n",
       "1                          2  {'n_features_to_select': 2}           0.369775   \n",
       "2                          3  {'n_features_to_select': 3}           0.398531   \n",
       "3                          4  {'n_features_to_select': 4}           0.401053   \n",
       "4                          5  {'n_features_to_select': 5}           0.402212   \n",
       "5                          6  {'n_features_to_select': 6}           0.403226   \n",
       "6                          7  {'n_features_to_select': 7}           0.404465   \n",
       "7                          8  {'n_features_to_select': 8}           0.404465   \n",
       "8                          9  {'n_features_to_select': 9}           0.404465   \n",
       "\n",
       "   split1_test_score  split2_test_score  split3_test_score  ...  \\\n",
       "0           0.066171           0.345328           0.115756  ...   \n",
       "1           0.374827           0.382569           0.365017  ...   \n",
       "2           0.411278           0.385996           0.430233  ...   \n",
       "3           0.411302           0.390371           0.428370  ...   \n",
       "4           0.412238           0.383623           0.425190  ...   \n",
       "5           0.414387           0.384661           0.424639  ...   \n",
       "6           0.415844           0.389318           0.425786  ...   \n",
       "7           0.415844           0.389318           0.425786  ...   \n",
       "8           0.415844           0.389318           0.425786  ...   \n",
       "\n",
       "   mean_test_score  std_test_score  rank_test_score  split0_train_score  \\\n",
       "0         0.229835        0.117974                9            0.342424   \n",
       "1         0.355774        0.035032                8            0.358409   \n",
       "2         0.396485        0.024819                7            0.401847   \n",
       "3         0.398453        0.022460                5            0.404492   \n",
       "4         0.397051        0.022175                6            0.404984   \n",
       "5         0.399027        0.020322                4            0.407910   \n",
       "6         0.400939        0.019946                1            0.408207   \n",
       "7         0.400939        0.019946                1            0.408207   \n",
       "8         0.400939        0.019946                1            0.408207   \n",
       "\n",
       "   split1_train_score  split2_train_score  split3_train_score  \\\n",
       "0            0.142937            0.344183            0.129715   \n",
       "1            0.356270            0.354453            0.359770   \n",
       "2            0.397919            0.403632            0.394703   \n",
       "3            0.399838            0.405691            0.398162   \n",
       "4            0.402009            0.407677            0.399467   \n",
       "5            0.404400            0.408754            0.402615   \n",
       "6            0.404620            0.409959            0.403041   \n",
       "7            0.404620            0.409959            0.403041   \n",
       "8            0.404620            0.409959            0.403041   \n",
       "\n",
       "   split4_train_score  mean_train_score  std_train_score  \n",
       "0            0.362712          0.264394         0.104892  \n",
       "1            0.379386          0.361658         0.009048  \n",
       "2            0.412409          0.402102         0.006015  \n",
       "3            0.414466          0.404530         0.005703  \n",
       "4            0.415017          0.405831         0.005360  \n",
       "5            0.416460          0.408028         0.004777  \n",
       "6            0.416853          0.408536         0.004834  \n",
       "7            0.416853          0.408536         0.004834  \n",
       "8            0.416853          0.408536         0.004834  \n",
       "\n",
       "[9 rows x 21 columns]"
      ]
     },
     "execution_count": 661,
     "metadata": {},
     "output_type": "execute_result"
    }
   ],
   "source": [
    "# cv results\n",
    "cv_results = pd.DataFrame(model_cv.cv_results_)\n",
    "cv_results"
   ]
  },
  {
   "cell_type": "code",
   "execution_count": 662,
   "metadata": {},
   "outputs": [
    {
     "data": {
      "text/plain": [
       "<matplotlib.legend.Legend at 0x139d9f7caf0>"
      ]
     },
     "execution_count": 662,
     "metadata": {},
     "output_type": "execute_result"
    },
    {
     "data": {
      "image/png": "[encoded data removed]",
      "text/plain": [
       "<Figure size 1152x432 with 1 Axes>"
      ]
     },
     "metadata": {
      "needs_background": "light"
     },
     "output_type": "display_data"
    }
   ],
   "source": [
    "# plotting cv results\n",
    "plt.figure(figsize=(16,6))\n",
    "\n",
    "plt.plot(cv_results[\"param_n_features_to_select\"], cv_results[\"mean_test_score\"])\n",
    "plt.plot(cv_results[\"param_n_features_to_select\"], cv_results[\"mean_train_score\"])\n",
    "plt.xlabel('number of features')\n",
    "plt.ylabel('r-squared')\n",
    "plt.title(\"Optimal Number of Features\")\n",
    "plt.legend(['test score', 'train score'], loc='upper left')"
   ]
  },
  {
   "cell_type": "code",
   "execution_count": 663,
   "metadata": {},
   "outputs": [
    {
     "name": "stdout",
     "output_type": "stream",
     "text": [
      "0.30509100276501677\n"
     ]
    }
   ],
   "source": [
    "from sklearn.metrics import r2_score\n",
    "\n",
    "# final model\n",
    "n_features_optimal = 7\n",
    "\n",
    "lr2 = LinearRegression()\n",
    "lr2.fit(X_train, y_train)\n",
    "\n",
    "rfe = RFE(lr, n_features_to_select=n_features_optimal)             \n",
    "rfe = rfe.fit(X_train, y_train)\n",
    "\n",
    "# predict prices of X_test\n",
    "y_pred = lr2.predict(X_test)\n",
    "r2 = r2_score(y_test, y_pred)\n",
    "print(r2)"
   ]
  },
  {
   "cell_type": "code",
   "execution_count": 664,
   "metadata": {},
   "outputs": [],
   "source": [
    "# from sklearn.model_selection import cross_val_score, cross_val_predict\n",
    "# from sklearn import metrics\n",
    "\n",
    "# scores = cross_val_score(lr, X_train, y_train, cv = 5)\n",
    "\n",
    "# print(scores, np.mean(scores), np.std(scores))\n",
    "\n",
    "# predictions = cross_val_predict(lr, X_test, y_test, cv = 5)\n",
    "# accuracy = metrics.r2_score(y_test, predictions)\n",
    "# #print(predictions)\n",
    "# print(accuracy)"
   ]
  },
  {
   "cell_type": "markdown",
   "metadata": {},
   "source": [
    "## Model Evaluation\n",
    "What is the $R^2$ score of this regression?  What is the error (or accuracy) of the result?"
   ]
  },
  {
   "cell_type": "code",
   "execution_count": 665,
   "metadata": {},
   "outputs": [
    {
     "name": "stdout",
     "output_type": "stream",
     "text": [
      "                            coef_lr\n",
      "intercept                 -0.088141\n",
      "drainage_area              0.290812\n",
      "totalProppantByPerfLength  0.422572\n",
      "avgHzDistAnyZone           0.018333\n",
      "latitude                  -0.037160\n",
      "longitude                 -0.041571\n",
      "angleFromSHMax             0.039523\n",
      "lateralLength              0.452835\n"
     ]
    }
   ],
   "source": [
    "values = np.append(lr2.intercept_, lr2.coef_)\n",
    "names = np.append('intercept', X_train.columns)\n",
    "model_coefs = pd.DataFrame(values, index = names, columns=['coef_lr'])\n",
    "print(model_coefs)"
   ]
  },
  {
   "cell_type": "code",
   "execution_count": 666,
   "metadata": {},
   "outputs": [],
   "source": [
    "#model_coefs.reset_index(drop=False,inplace=True)\n",
    "#model_coefs = model_coefs.set_axis(['variables','coef_lr'], axis = 1, inplace=False)\n",
    "#print(model_coefs)"
   ]
  },
  {
   "cell_type": "code",
   "execution_count": 667,
   "metadata": {},
   "outputs": [
    {
     "name": "stdout",
     "output_type": "stream",
     "text": [
      "0.30509100276501677\n",
      "0.40780871641451877\n"
     ]
    }
   ],
   "source": [
    "print(lr2.score(X_test, y_test))\n",
    "print(lr2.score(X_train, y_train))"
   ]
  },
  {
   "cell_type": "code",
   "execution_count": 668,
   "metadata": {},
   "outputs": [
    {
     "name": "stdout",
     "output_type": "stream",
     "text": [
      "(540, 1)\n",
      "(540, 1)\n"
     ]
    }
   ],
   "source": [
    "y_pred = lr2.predict(X_test)\n",
    "print(y_pred.shape)\n",
    "print(y_test.shape)"
   ]
  },
  {
   "cell_type": "code",
   "execution_count": 669,
   "metadata": {},
   "outputs": [],
   "source": [
    "y_pred = scaler.inverse_transform(y_pred)\n",
    "y_test = scaler.inverse_transform(y_test)\n",
    "#y_pred = lr.predict(X_test)\n",
    "#y_test"
   ]
  },
  {
   "cell_type": "code",
   "execution_count": 670,
   "metadata": {},
   "outputs": [
    {
     "name": "stdout",
     "output_type": "stream",
     "text": [
      "Testing rˆ2: 0.31\n"
     ]
    }
   ],
   "source": [
    "from sklearn.metrics import r2_score\n",
    "test_set_r2 = r2_score(y_test, y_pred)\n",
    "print('Testing rˆ2:',round(test_set_r2,2))"
   ]
  },
  {
   "cell_type": "code",
   "execution_count": 671,
   "metadata": {},
   "outputs": [
    {
     "name": "stdout",
     "output_type": "stream",
     "text": [
      "(540, 1)\n"
     ]
    }
   ],
   "source": [
    "y_test\n",
    "print(y_test.shape)"
   ]
  },
  {
   "cell_type": "code",
   "execution_count": 672,
   "metadata": {},
   "outputs": [],
   "source": [
    "y_train = scaler.inverse_transform(y_train)\n",
    "y_train_pred = lr2.predict(X_train)\n",
    "y_train_pred = scaler.inverse_transform(y_train_pred)"
   ]
  },
  {
   "cell_type": "code",
   "execution_count": 673,
   "metadata": {},
   "outputs": [
    {
     "data": {
      "text/plain": [
       "Text(0.5, 1.0, 'Actual Vs. Predicted, Testing Data Set (30% of the data)')"
      ]
     },
     "execution_count": 673,
     "metadata": {},
     "output_type": "execute_result"
    },
    {
     "data": {
      "image/png": "[encoded data removed]",
      "text/plain": [
       "<Figure size 720x576 with 1 Axes>"
      ]
     },
     "metadata": {
      "needs_background": "light"
     },
     "output_type": "display_data"
    }
   ],
   "source": [
    "plt.figure(figsize = (10,8))\n",
    "plt.plot(y_test ,y_pred, 'b.')\n",
    "plt.plot(y_train,y_train_pred, 'r.')\n",
    "plt.xlabel('Testing Actuals')\n",
    "plt.ylabel('Testing Predictions')\n",
    "plt.title('Actual Vs. Predicted, Testing Data Set (30% of the data)')"
   ]
  },
  {
   "cell_type": "markdown",
   "metadata": {},
   "source": [
    "Use the utility `compare_pred_results` function to plot the predicted vs. actual production."
   ]
  },
  {
   "cell_type": "code",
   "execution_count": 674,
   "metadata": {},
   "outputs": [
    {
     "name": "stdout",
     "output_type": "stream",
     "text": [
      "(1258, 1)\n",
      "(1258, 1)\n"
     ]
    }
   ],
   "source": [
    "print(y_train.shape)\n",
    "print(y_train_pred.shape)"
   ]
  },
  {
   "cell_type": "code",
   "execution_count": 675,
   "metadata": {},
   "outputs": [
    {
     "name": "stdout",
     "output_type": "stream",
     "text": [
      "Train data: the r2 score is 0.408, the accuracy is 0.300\n",
      "Test data: the r2 score is 0.305, the accuracy is 0.076\n"
     ]
    }
   ],
   "source": [
    "# mean_absolute_percentage_error(y_test, y_test_pred)\n",
    "r2 = r2_score(y_train, y_train_pred)\n",
    "acc =  1- mean_absolute_percentage_error(y_train, y_train_pred)\n",
    "print(f\"Train data: the r2 score is {r2:.3f}, the accuracy is {acc:.3f}\")\n",
    "\n",
    "r2 = r2_score(y_test, y_pred)\n",
    "acc =  1- mean_absolute_percentage_error(y_test, y_pred)\n",
    "print(f\"Test data: the r2 score is {r2:.3f}, the accuracy is {acc:.3f}\")"
   ]
  },
  {
   "cell_type": "code",
   "execution_count": 676,
   "metadata": {},
   "outputs": [
    {
     "data": {
      "image/png": "[encoded data removed]",
      "text/plain": [
       "<Figure size 432x432 with 1 Axes>"
      ]
     },
     "metadata": {
      "needs_background": "light"
     },
     "output_type": "display_data"
    }
   ],
   "source": [
    "compare_pred_results(y_train, y_train_pred, y_test, y_pred, scale_factor=1e3, title=\"Predicted vs. Actual 12 mo. cumulative production\",\n",
    "                     xlabel=\"Actual 12 mo. oil [Mbbl]\", ylabel=\"Predicted 12 mo. oil [Mbbl]\")"
   ]
  },
  {
   "cell_type": "markdown",
   "metadata": {},
   "source": [
    "## Lasso Regression\n",
    "\n",
    "The first type of regularization technique is called __LASSO__, which stands for least absolute shrinkage and selection operator. It is also known as regression with L1 regularization. We will fit the same model as we did in our linear regression."
   ]
  },
  {
   "cell_type": "code",
   "execution_count": 677,
   "metadata": {},
   "outputs": [],
   "source": [
    "from sklearn.linear_model import Lasso\n",
    "from sklearn.model_selection import train_test_split\n",
    "\n",
    "X_train, X_test, y_train, y_test = train_test_split(\n",
    "    features, target, test_size=0.30, random_state=42)"
   ]
  },
  {
   "cell_type": "code",
   "execution_count": 678,
   "metadata": {},
   "outputs": [],
   "source": [
    "lasso = Lasso(normalize=True, random_state=42, alpha=0.0001).fit(X_train,y_train)"
   ]
  },
  {
   "cell_type": "code",
   "execution_count": 679,
   "metadata": {},
   "outputs": [
    {
     "name": "stdout",
     "output_type": "stream",
     "text": [
      "                            coef_lr    coef_lasso\n",
      "intercept                 -0.088141 -2.015436e+06\n",
      "drainage_area              0.290812  3.244943e-01\n",
      "totalProppantByPerfLength  0.422572  1.157312e+01\n",
      "avgHzDistAnyZone           0.018333  3.444194e+00\n",
      "latitude                  -0.037160 -3.332096e+04\n",
      "longitude                 -0.041571 -2.742681e+04\n",
      "angleFromSHMax             0.039523  1.218548e+02\n",
      "lateralLength              0.452835  1.766410e+01\n"
     ]
    }
   ],
   "source": [
    "values = np.append(lasso.intercept_, lasso.coef_)\n",
    "names = np.append('intercept', X_train.columns)\n",
    "coefs_lasso = pd.DataFrame(values, index = names, columns=['coef_lasso'])\n",
    "\n",
    "model_coefs = model_coefs.join(coefs_lasso)\n",
    "print(model_coefs)"
   ]
  },
  {
   "cell_type": "code",
   "execution_count": 680,
   "metadata": {},
   "outputs": [
    {
     "name": "stdout",
     "output_type": "stream",
     "text": [
      "0.3050910420484674\n",
      "0.4078087164145022\n"
     ]
    }
   ],
   "source": [
    "print(lasso.score(X_test,y_test))\n",
    "print(lasso.score(X_train,y_train))"
   ]
  },
  {
   "cell_type": "markdown",
   "metadata": {},
   "source": [
    "## Ridge Regression\n",
    "\n",
    "Now let’s look at another regularization technique, __ridge regression__. It is also known as regression with L2 regularization.\n",
    "Most of the code will be very similar to that seen with the previous methods. We will fit the model on our training data, and combine the results with our ongoing dataframe of results. "
   ]
  },
  {
   "cell_type": "code",
   "execution_count": 681,
   "metadata": {},
   "outputs": [
    {
     "name": "stdout",
     "output_type": "stream",
     "text": [
      "Fitting 5 folds for each of 9 candidates, totalling 45 fits\n"
     ]
    },
    {
     "data": {
      "text/plain": [
       "{'alpha': 0.0001}"
      ]
     },
     "execution_count": 681,
     "metadata": {},
     "output_type": "execute_result"
    }
   ],
   "source": [
    "from sklearn.linear_model import Ridge\n",
    "from sklearn.model_selection import GridSearchCV\n",
    "\n",
    "# list of alpha to tune\n",
    "params = {'alpha': [0.0001, 0.001, 0.01, 0.05, 1.0, 5.0, 10, 50, 100]}\n",
    "ridge = Ridge()\n",
    "folds = 5\n",
    "\n",
    "# Defining GridSearchCV\n",
    "grid_cv_model = GridSearchCV(estimator=ridge,\n",
    "    param_grid=params,\n",
    "    scoring='neg_mean_absolute_error',\n",
    "    cv=folds,\n",
    "    return_train_score=True,\n",
    "    verbose=1)\n",
    "\n",
    "# fiting GridSearchCV() with X_train and y_train\n",
    "grid_cv_model.fit(X_train,y_train)\n",
    "\n",
    "# Saving GridSearchCV results into a dataframe \n",
    "cv_results = pd.DataFrame(grid_cv_model.cv_results_)\n",
    "\n",
    "# filter cv_results with all param_alpha less than or equal to 200\n",
    "cv_results = cv_results[cv_results['param_alpha']<=200]\n",
    "\n",
    "# cv_results head\n",
    "cv_results.head()\n",
    "grid_cv_model.best_params_"
   ]
  },
  {
   "cell_type": "code",
   "execution_count": 682,
   "metadata": {},
   "outputs": [],
   "source": [
    "ridge = Ridge(normalize=True, random_state=0.0001, alpha=0.0001).fit(X_train, y_train)"
   ]
  },
  {
   "cell_type": "code",
   "execution_count": 683,
   "metadata": {},
   "outputs": [
    {
     "name": "stdout",
     "output_type": "stream",
     "text": [
      "                            coef_lr    coef_lasso    coef_ridge\n",
      "intercept                 -0.088141 -2.015436e+06 -2.015241e+06\n",
      "drainage_area              0.290812  3.244943e-01  3.244511e-01\n",
      "totalProppantByPerfLength  0.422572  1.157312e+01  1.157349e+01\n",
      "avgHzDistAnyZone           0.018333  3.444194e+00  3.441530e+00\n",
      "latitude                  -0.037160 -3.332096e+04 -3.332365e+04\n",
      "longitude                 -0.041571 -2.742681e+04 -2.742628e+04\n",
      "angleFromSHMax             0.039523  1.218548e+02  1.218268e+02\n",
      "lateralLength              0.452835  1.766410e+01  1.766184e+01\n"
     ]
    }
   ],
   "source": [
    "values = np.append(ridge.intercept_, ridge.coef_)\n",
    "names = np.append('intercept', X_train.columns)\n",
    "coefs_ridge = pd.DataFrame(values, index = names, columns=['coef_ridge'])\n",
    "\n",
    "model_coefs = model_coefs.join(coefs_ridge)\n",
    "print(model_coefs)"
   ]
  },
  {
   "cell_type": "code",
   "execution_count": 684,
   "metadata": {},
   "outputs": [
    {
     "name": "stdout",
     "output_type": "stream",
     "text": [
      "0.305109825652077\n",
      "0.40780871179822464\n"
     ]
    }
   ],
   "source": [
    "print(ridge.score(X_test,y_test))\n",
    "print(ridge.score(X_train,y_train))"
   ]
  },
  {
   "cell_type": "markdown",
   "metadata": {},
   "source": [
    "## Elastic Net\n",
    "\n",
    "The elastic net is a regularization technique that combines the ridge and LASSO regression techniques."
   ]
  },
  {
   "cell_type": "code",
   "execution_count": 685,
   "metadata": {},
   "outputs": [
    {
     "data": {
      "text/html": [
       "<div>\n",
       "<style scoped>\n",
       "    .dataframe tbody tr th:only-of-type {\n",
       "        vertical-align: middle;\n",
       "    }\n",
       "\n",
       "    .dataframe tbody tr th {\n",
       "        vertical-align: top;\n",
       "    }\n",
       "\n",
       "    .dataframe thead th {\n",
       "        text-align: right;\n",
       "    }\n",
       "</style>\n",
       "<table border=\"1\" class=\"dataframe\">\n",
       "  <thead>\n",
       "    <tr style=\"text-align: right;\">\n",
       "      <th></th>\n",
       "      <th>coef_lr</th>\n",
       "      <th>coef_lasso</th>\n",
       "      <th>coef_ridge</th>\n",
       "      <th>coef_en</th>\n",
       "    </tr>\n",
       "  </thead>\n",
       "  <tbody>\n",
       "    <tr>\n",
       "      <th>intercept</th>\n",
       "      <td>-0.088141</td>\n",
       "      <td>-2.015436e+06</td>\n",
       "      <td>-2.015241e+06</td>\n",
       "      <td>-163062.558361</td>\n",
       "    </tr>\n",
       "    <tr>\n",
       "      <th>drainage_area</th>\n",
       "      <td>0.290812</td>\n",
       "      <td>3.244943e-01</td>\n",
       "      <td>3.244511e-01</td>\n",
       "      <td>0.327291</td>\n",
       "    </tr>\n",
       "    <tr>\n",
       "      <th>totalProppantByPerfLength</th>\n",
       "      <td>0.422572</td>\n",
       "      <td>1.157312e+01</td>\n",
       "      <td>1.157349e+01</td>\n",
       "      <td>13.301231</td>\n",
       "    </tr>\n",
       "    <tr>\n",
       "      <th>avgHzDistAnyZone</th>\n",
       "      <td>0.018333</td>\n",
       "      <td>3.444194e+00</td>\n",
       "      <td>3.441530e+00</td>\n",
       "      <td>3.668453</td>\n",
       "    </tr>\n",
       "    <tr>\n",
       "      <th>latitude</th>\n",
       "      <td>-0.037160</td>\n",
       "      <td>-3.332096e+04</td>\n",
       "      <td>-3.332365e+04</td>\n",
       "      <td>-689.218991</td>\n",
       "    </tr>\n",
       "    <tr>\n",
       "      <th>longitude</th>\n",
       "      <td>-0.041571</td>\n",
       "      <td>-2.742681e+04</td>\n",
       "      <td>-2.742628e+04</td>\n",
       "      <td>-549.853688</td>\n",
       "    </tr>\n",
       "    <tr>\n",
       "      <th>angleFromSHMax</th>\n",
       "      <td>0.039523</td>\n",
       "      <td>1.218548e+02</td>\n",
       "      <td>1.218268e+02</td>\n",
       "      <td>128.041487</td>\n",
       "    </tr>\n",
       "    <tr>\n",
       "      <th>lateralLength</th>\n",
       "      <td>0.452835</td>\n",
       "      <td>1.766410e+01</td>\n",
       "      <td>1.766184e+01</td>\n",
       "      <td>17.888885</td>\n",
       "    </tr>\n",
       "  </tbody>\n",
       "</table>\n",
       "</div>"
      ],
      "text/plain": [
       "                            coef_lr    coef_lasso    coef_ridge        coef_en\n",
       "intercept                 -0.088141 -2.015436e+06 -2.015241e+06 -163062.558361\n",
       "drainage_area              0.290812  3.244943e-01  3.244511e-01       0.327291\n",
       "totalProppantByPerfLength  0.422572  1.157312e+01  1.157349e+01      13.301231\n",
       "avgHzDistAnyZone           0.018333  3.444194e+00  3.441530e+00       3.668453\n",
       "latitude                  -0.037160 -3.332096e+04 -3.332365e+04    -689.218991\n",
       "longitude                 -0.041571 -2.742681e+04 -2.742628e+04    -549.853688\n",
       "angleFromSHMax             0.039523  1.218548e+02  1.218268e+02     128.041487\n",
       "lateralLength              0.452835  1.766410e+01  1.766184e+01      17.888885"
      ]
     },
     "execution_count": 685,
     "metadata": {},
     "output_type": "execute_result"
    }
   ],
   "source": [
    "from sklearn.linear_model import ElasticNet\n",
    "en = ElasticNet(random_state=42).fit(X_train, y_train)\n",
    "\n",
    "values = np.append(en.intercept_, en.coef_)\n",
    "names = np.append('intercept', X_train.columns)\n",
    "coefs_en = pd.DataFrame(values, index = names, columns=['coef_en'])\n",
    "\n",
    "model_coefs = model_coefs.join(coefs_en)\n",
    "model_coefs"
   ]
  },
  {
   "cell_type": "code",
   "execution_count": 686,
   "metadata": {},
   "outputs": [
    {
     "name": "stdout",
     "output_type": "stream",
     "text": [
      "0.2996352237291321\n",
      "0.4048721602656299\n"
     ]
    }
   ],
   "source": [
    "print(en.score(X_test,y_test))\n",
    "print(en.score(X_train,y_train))"
   ]
  },
  {
   "cell_type": "code",
   "execution_count": null,
   "metadata": {},
   "outputs": [],
   "source": []
  }
 ],
 "metadata": {
  "kernelspec": {
   "display_name": "Python 3.8.10 ('base')",
   "language": "python",
   "name": "python3"
  },
  "language_info": {
   "codemirror_mode": {
    "name": "ipython",
    "version": 3
   },
   "file_extension": ".py",
   "mimetype": "text/x-python",
   "name": "python",
   "nbconvert_exporter": "python",
   "pygments_lexer": "ipython3",
   "version": "3.8.10"
  },
  "vscode": {
   "interpreter": {
    "hash": "4b3c9dd4753498280d3afd466afc2da870416878b9165a4cec861329248d3b95"
   }
  }
 },
 "nbformat": 4,
 "nbformat_minor": 2
}
