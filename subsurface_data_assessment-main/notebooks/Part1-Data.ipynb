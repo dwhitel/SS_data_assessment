{
 "cells": [
  {
   "cell_type": "markdown",
   "metadata": {},
   "source": [
    "# Petro.ai Subsurface Data Assessment.\n",
    "\n",
    "## Part 1 - Data\n",
    "For this task, you will read data from example files that we work with regularly and visualize the contents.  It is recommended that you use Python for this step but can use another language or data analysis application (like Spotfire) if you wish.  Feel free to demonstrate your ability and creativity with the visualizations you create to tell the best story with this data. This could be anything from static plots to an interactive dashboard.   \n",
    "\n",
    "In the `data/part1/ folder`, you will find three files: \n",
    "* A LAS file containing well logs (`4200000000_Petro1.las`) \n",
    "* An attribute grid (`ATTR1_map.csv`) \n",
    "* Production data (`MonthlyProduction.csv`)  \n",
    "\n",
    "#### 1A) Well Log Data\n",
    "* Read the LAS file.   \n",
    "* Plot the Gamma Ray curve vs. Depth. \n",
    "* Extract the latitude/longitude of this well \n",
    "\n",
    " \n",
    "#### 1B) Attribute Grids\n",
    "* Read the attribute grid. \n",
    "* Plot the spatial variation of the ATTR1 property \n",
    "* Show the location of the well from part A. \n",
    "* **Bonus**: what is the value of ATTR1 at the well location from part A? \n",
    "\n",
    "#### 1C) Production Data\n",
    "* Read the production file. \n",
    "* Plot the monthly production from the well in part A \n",
    "* Determine the total production (oil, gas, water) for each well.  \n",
    "* Determine the total barrel of oil equivalent (BOE) produced for each well.  Use a suitable conversion factor to convert MCF gas to BOE, and assume 1 bbl oil = 1 BOE.\n",
    "* Save this summary data to a csv file for all wells that produced more than 100,000 BOE.  How many wells have BOE > 100,000? \n",
    "* Determine the well with the highest total BOE. \n",
    "\n",
    "If you use Python for this step, feel free to use this notebook as a starter.  Please submit your code and the results that it generates.  You can just submit a notebook if you do all your work here.\n"
   ]
  },
  {
   "cell_type": "code",
   "execution_count": 1,
   "metadata": {},
   "outputs": [],
   "source": [
    "import pandas as pd\n",
    "import lasio as ls\n",
    "import matplotlib.pyplot as plt\n",
    "import seaborn as sns\n",
    "import os"
   ]
  },
  {
   "cell_type": "code",
   "execution_count": 2,
   "metadata": {},
   "outputs": [
    {
     "data": {
      "text/plain": [
       "['42000000_Petro1.las',\n",
       " 'ATTR1_map.csv',\n",
       " 'MonthlyProduction.csv',\n",
       " 'MonthlyProduction.xlsx']"
      ]
     },
     "execution_count": 2,
     "metadata": {},
     "output_type": "execute_result"
    }
   ],
   "source": [
    "las_file_list = []\n",
    "path = 'C:/Users/dylwh/Desktop/subsurface_data_assessment-main/data/part1/'\n",
    "files = os.listdir(path)\n",
    "files"
   ]
  },
  {
   "cell_type": "code",
   "execution_count": 3,
   "metadata": {},
   "outputs": [
    {
     "data": {
      "text/plain": [
       "[CurveItem(mnemonic=\"MD\", unit=\"ft\", value=\"\", descr=\"Measured Depth\", original_mnemonic=\"MD\", data.shape=(21579,)),\n",
       " CurveItem(mnemonic=\"BH_CALI\", unit=\"unitless\", value=\"\", descr=\"Bad Hole Caliper = 3in Delta 3ft Window\", original_mnemonic=\"BH_CALI\", data.shape=(21579,)),\n",
       " CurveItem(mnemonic=\"BH_DRHO\", unit=\"unitless\", value=\"\", descr=\"Bad Hole Density Correction = -0.1>DRHO or DRHO>0.10\", original_mnemonic=\"BH_DRHO\", data.shape=(21579,)),\n",
       " CurveItem(mnemonic=\"CALI\", unit=\"in\", value=\"\", descr=\"Caliper\", original_mnemonic=\"CALI\", data.shape=(21579,)),\n",
       " CurveItem(mnemonic=\"DPHI_UNK\", unit=\"v/v\", value=\"\", descr=\"Density Porosity Unknown\", original_mnemonic=\"DPHI_UNK\", data.shape=(21579,)),\n",
       " CurveItem(mnemonic=\"DRHO\", unit=\"g/cm3\", value=\"\", descr=\"Bulk Density Correction\", original_mnemonic=\"DRHO\", data.shape=(21579,)),\n",
       " CurveItem(mnemonic=\"GR\", unit=\"gAPI\", value=\"\", descr=\"Gamma Ray\", original_mnemonic=\"GR\", data.shape=(21579,)),\n",
       " CurveItem(mnemonic=\"NPHI\", unit=\"v/v\", value=\"\", descr=\"Neutron Porosity\", original_mnemonic=\"NPHI\", data.shape=(21579,)),\n",
       " CurveItem(mnemonic=\"NPHI_UNK\", unit=\"v/v\", value=\"\", descr=\"Neutron Porosity Unknown\", original_mnemonic=\"NPHI_UNK\", data.shape=(21579,)),\n",
       " CurveItem(mnemonic=\"RDEEP\", unit=\"ohm.m\", value=\"\", descr=\"Deep Resistivity\", original_mnemonic=\"RDEEP\", data.shape=(21579,)),\n",
       " CurveItem(mnemonic=\"RDEEP_LAT\", unit=\"ohm.m\", value=\"\", descr=\"Deep Laterolog Resistivity\", original_mnemonic=\"RDEEP_LAT\", data.shape=(21579,)),\n",
       " CurveItem(mnemonic=\"RDEEP_LOG_10\", unit=\"unitless\", value=\"\", descr=\"Deep Resistivity = Log10(RDEEP)\", original_mnemonic=\"RDEEP_LOG_10\", data.shape=(21579,)),\n",
       " CurveItem(mnemonic=\"RSHAL\", unit=\"ohm.m\", value=\"\", descr=\"Shallow Resistivity\", original_mnemonic=\"RSHAL\", data.shape=(21579,)),\n",
       " CurveItem(mnemonic=\"RSHAL_LAT\", unit=\"ohm.m\", value=\"\", descr=\"Shallow Laterolog Resistivity\", original_mnemonic=\"RSHAL_LAT\", data.shape=(21579,)),\n",
       " CurveItem(mnemonic=\"RXO\", unit=\"ohm.m\", value=\"\", descr=\"Micro Resistivity\", original_mnemonic=\"RXO\", data.shape=(21579,))]"
      ]
     },
     "execution_count": 3,
     "metadata": {},
     "output_type": "execute_result"
    }
   ],
   "source": [
    "petro1 = ls.read('C:/Users/dylwh/Desktop/subsurface_data_assessment-main/data/part1/42000000_Petro1.las')\n",
    "petro1.curves"
   ]
  },
  {
   "cell_type": "code",
   "execution_count": 4,
   "metadata": {},
   "outputs": [
    {
     "data": {
      "image/png": "[encoded data removed]",
      "text/plain": [
       "<Figure size 432x288 with 1 Axes>"
      ]
     },
     "metadata": {
      "needs_background": "light"
     },
     "output_type": "display_data"
    }
   ],
   "source": [
    "GRvD = plt.scatter(x=\"GR\",y=\"MD\", data=petro1)"
   ]
  },
  {
   "cell_type": "code",
   "execution_count": 5,
   "metadata": {},
   "outputs": [
    {
     "data": {
      "text/plain": [
       "[HeaderItem(mnemonic=\"STRT\", unit=\"ft\", value=\"2.0\", descr=\"First reference val\"),\n",
       " HeaderItem(mnemonic=\"STOP\", unit=\"ft\", value=\"10791.0\", descr=\"Last reference \"),\n",
       " HeaderItem(mnemonic=\"STEP\", unit=\"ft\", value=\"0.5\", descr=\"Step increment\"),\n",
       " HeaderItem(mnemonic=\"NULL\", unit=\"\", value=\"-999.25\", descr=\"Missing value\"),\n",
       " HeaderItem(mnemonic=\"WELL\", unit=\"\", value=\"PETRO1\", descr=\"Well name\"),\n",
       " HeaderItem(mnemonic=\"UWI\", unit=\"\", value=\"4200000000\", descr=\"Unique Well ID\"),\n",
       " HeaderItem(mnemonic=\"API\", unit=\"\", value=\"4200000000\", descr=\"API Number\"),\n",
       " HeaderItem(mnemonic=\"LONG\", unit=\"\", value=\"-103.663049999873\", descr=\"Longitu\"),\n",
       " HeaderItem(mnemonic=\"LATI\", unit=\"\", value=\"31.5180500000053\", descr=\"Latitude\")]"
      ]
     },
     "execution_count": 5,
     "metadata": {},
     "output_type": "execute_result"
    }
   ],
   "source": [
    "petro1.well"
   ]
  },
  {
   "cell_type": "code",
   "execution_count": 6,
   "metadata": {},
   "outputs": [
    {
     "name": "stdout",
     "output_type": "stream",
     "text": [
      "-103.663049999873\n",
      "31.5180500000053\n"
     ]
    }
   ],
   "source": [
    "LONG = print(petro1.well.LONG.value)\n",
    "LATI = print(petro1.well.LATI.value)"
   ]
  },
  {
   "cell_type": "code",
   "execution_count": 7,
   "metadata": {},
   "outputs": [],
   "source": [
    "df_petro = petro1.df()"
   ]
  },
  {
   "cell_type": "code",
   "execution_count": 8,
   "metadata": {},
   "outputs": [
    {
     "data": {
      "text/plain": [
       "(21579, 14)"
      ]
     },
     "execution_count": 8,
     "metadata": {},
     "output_type": "execute_result"
    }
   ],
   "source": [
    "df_petro.shape"
   ]
  },
  {
   "cell_type": "code",
   "execution_count": 9,
   "metadata": {},
   "outputs": [
    {
     "data": {
      "text/plain": [
       "Index(['BH_CALI', 'BH_DRHO', 'CALI', 'DPHI_UNK', 'DRHO', 'GR', 'NPHI',\n",
       "       'NPHI_UNK', 'RDEEP', 'RDEEP_LAT', 'RDEEP_LOG_10', 'RSHAL', 'RSHAL_LAT',\n",
       "       'RXO'],\n",
       "      dtype='object')"
      ]
     },
     "execution_count": 9,
     "metadata": {},
     "output_type": "execute_result"
    }
   ],
   "source": [
    "df_petro.columns"
   ]
  },
  {
   "cell_type": "code",
   "execution_count": 10,
   "metadata": {},
   "outputs": [],
   "source": [
    "df_petro2 = df_petro.rename_axis('MD').reset_index()"
   ]
  },
  {
   "cell_type": "code",
   "execution_count": 11,
   "metadata": {},
   "outputs": [
    {
     "data": {
      "text/plain": [
       "(21579, 15)"
      ]
     },
     "execution_count": 11,
     "metadata": {},
     "output_type": "execute_result"
    }
   ],
   "source": [
    "df_petro2.shape"
   ]
  },
  {
   "cell_type": "code",
   "execution_count": 12,
   "metadata": {},
   "outputs": [
    {
     "data": {
      "text/html": [
       "<div>\n",
       "<style scoped>\n",
       "    .dataframe tbody tr th:only-of-type {\n",
       "        vertical-align: middle;\n",
       "    }\n",
       "\n",
       "    .dataframe tbody tr th {\n",
       "        vertical-align: top;\n",
       "    }\n",
       "\n",
       "    .dataframe thead th {\n",
       "        text-align: right;\n",
       "    }\n",
       "</style>\n",
       "<table border=\"1\" class=\"dataframe\">\n",
       "  <thead>\n",
       "    <tr style=\"text-align: right;\">\n",
       "      <th></th>\n",
       "      <th>MD</th>\n",
       "      <th>BH_CALI</th>\n",
       "      <th>BH_DRHO</th>\n",
       "      <th>CALI</th>\n",
       "      <th>DPHI_UNK</th>\n",
       "      <th>DRHO</th>\n",
       "      <th>GR</th>\n",
       "      <th>NPHI</th>\n",
       "      <th>NPHI_UNK</th>\n",
       "      <th>RDEEP</th>\n",
       "      <th>RDEEP_LAT</th>\n",
       "      <th>RDEEP_LOG_10</th>\n",
       "      <th>RSHAL</th>\n",
       "      <th>RSHAL_LAT</th>\n",
       "      <th>RXO</th>\n",
       "    </tr>\n",
       "  </thead>\n",
       "  <tbody>\n",
       "    <tr>\n",
       "      <th>count</th>\n",
       "      <td>21579.000000</td>\n",
       "      <td>20767.000000</td>\n",
       "      <td>20760.000000</td>\n",
       "      <td>20761.000000</td>\n",
       "      <td>20521.000000</td>\n",
       "      <td>20760.000000</td>\n",
       "      <td>21526.000000</td>\n",
       "      <td>21547.000000</td>\n",
       "      <td>21547.000000</td>\n",
       "      <td>20627.000000</td>\n",
       "      <td>20627.000000</td>\n",
       "      <td>20627.000000</td>\n",
       "      <td>20268.000000</td>\n",
       "      <td>20268.000000</td>\n",
       "      <td>20678.000000</td>\n",
       "    </tr>\n",
       "    <tr>\n",
       "      <th>mean</th>\n",
       "      <td>5396.500000</td>\n",
       "      <td>0.002504</td>\n",
       "      <td>0.013295</td>\n",
       "      <td>10.733608</td>\n",
       "      <td>0.074108</td>\n",
       "      <td>0.021573</td>\n",
       "      <td>62.472625</td>\n",
       "      <td>0.107019</td>\n",
       "      <td>0.107019</td>\n",
       "      <td>1691.933277</td>\n",
       "      <td>1691.933277</td>\n",
       "      <td>2.035250</td>\n",
       "      <td>280.435050</td>\n",
       "      <td>280.435050</td>\n",
       "      <td>318.046203</td>\n",
       "    </tr>\n",
       "    <tr>\n",
       "      <th>std</th>\n",
       "      <td>3114.732533</td>\n",
       "      <td>0.049978</td>\n",
       "      <td>0.114537</td>\n",
       "      <td>2.416847</td>\n",
       "      <td>0.103790</td>\n",
       "      <td>0.025348</td>\n",
       "      <td>38.912129</td>\n",
       "      <td>0.093211</td>\n",
       "      <td>0.093211</td>\n",
       "      <td>4526.885970</td>\n",
       "      <td>4526.885970</td>\n",
       "      <td>1.047186</td>\n",
       "      <td>447.683724</td>\n",
       "      <td>447.683724</td>\n",
       "      <td>556.098712</td>\n",
       "    </tr>\n",
       "    <tr>\n",
       "      <th>min</th>\n",
       "      <td>2.000000</td>\n",
       "      <td>0.000000</td>\n",
       "      <td>0.000000</td>\n",
       "      <td>6.157000</td>\n",
       "      <td>-0.213000</td>\n",
       "      <td>-0.049000</td>\n",
       "      <td>0.364000</td>\n",
       "      <td>-0.028000</td>\n",
       "      <td>-0.028000</td>\n",
       "      <td>0.621000</td>\n",
       "      <td>0.621000</td>\n",
       "      <td>-0.206908</td>\n",
       "      <td>0.632000</td>\n",
       "      <td>0.632000</td>\n",
       "      <td>0.195000</td>\n",
       "    </tr>\n",
       "    <tr>\n",
       "      <th>25%</th>\n",
       "      <td>2699.250000</td>\n",
       "      <td>0.000000</td>\n",
       "      <td>0.000000</td>\n",
       "      <td>8.532000</td>\n",
       "      <td>0.041000</td>\n",
       "      <td>0.004000</td>\n",
       "      <td>34.274000</td>\n",
       "      <td>0.030000</td>\n",
       "      <td>0.030000</td>\n",
       "      <td>14.618500</td>\n",
       "      <td>14.618500</td>\n",
       "      <td>1.164903</td>\n",
       "      <td>10.653250</td>\n",
       "      <td>10.653250</td>\n",
       "      <td>10.400000</td>\n",
       "    </tr>\n",
       "    <tr>\n",
       "      <th>50%</th>\n",
       "      <td>5396.500000</td>\n",
       "      <td>0.000000</td>\n",
       "      <td>0.000000</td>\n",
       "      <td>9.295000</td>\n",
       "      <td>0.080000</td>\n",
       "      <td>0.017000</td>\n",
       "      <td>58.509000</td>\n",
       "      <td>0.106000</td>\n",
       "      <td>0.106000</td>\n",
       "      <td>70.726000</td>\n",
       "      <td>70.726000</td>\n",
       "      <td>1.849579</td>\n",
       "      <td>45.397000</td>\n",
       "      <td>45.397000</td>\n",
       "      <td>38.973000</td>\n",
       "    </tr>\n",
       "    <tr>\n",
       "      <th>75%</th>\n",
       "      <td>8093.750000</td>\n",
       "      <td>0.000000</td>\n",
       "      <td>0.000000</td>\n",
       "      <td>12.950000</td>\n",
       "      <td>0.119000</td>\n",
       "      <td>0.033000</td>\n",
       "      <td>89.788500</td>\n",
       "      <td>0.159000</td>\n",
       "      <td>0.159000</td>\n",
       "      <td>536.075500</td>\n",
       "      <td>536.075500</td>\n",
       "      <td>2.729226</td>\n",
       "      <td>317.706750</td>\n",
       "      <td>317.706750</td>\n",
       "      <td>337.279750</td>\n",
       "    </tr>\n",
       "    <tr>\n",
       "      <th>max</th>\n",
       "      <td>10791.000000</td>\n",
       "      <td>1.000000</td>\n",
       "      <td>1.000000</td>\n",
       "      <td>18.198000</td>\n",
       "      <td>0.699000</td>\n",
       "      <td>0.384000</td>\n",
       "      <td>201.322000</td>\n",
       "      <td>0.700000</td>\n",
       "      <td>0.700000</td>\n",
       "      <td>51645.203100</td>\n",
       "      <td>51645.203100</td>\n",
       "      <td>4.713030</td>\n",
       "      <td>2094.257100</td>\n",
       "      <td>2094.257100</td>\n",
       "      <td>2094.257100</td>\n",
       "    </tr>\n",
       "  </tbody>\n",
       "</table>\n",
       "</div>"
      ],
      "text/plain": [
       "                 MD       BH_CALI       BH_DRHO          CALI      DPHI_UNK  \\\n",
       "count  21579.000000  20767.000000  20760.000000  20761.000000  20521.000000   \n",
       "mean    5396.500000      0.002504      0.013295     10.733608      0.074108   \n",
       "std     3114.732533      0.049978      0.114537      2.416847      0.103790   \n",
       "min        2.000000      0.000000      0.000000      6.157000     -0.213000   \n",
       "25%     2699.250000      0.000000      0.000000      8.532000      0.041000   \n",
       "50%     5396.500000      0.000000      0.000000      9.295000      0.080000   \n",
       "75%     8093.750000      0.000000      0.000000     12.950000      0.119000   \n",
       "max    10791.000000      1.000000      1.000000     18.198000      0.699000   \n",
       "\n",
       "               DRHO            GR          NPHI      NPHI_UNK         RDEEP  \\\n",
       "count  20760.000000  21526.000000  21547.000000  21547.000000  20627.000000   \n",
       "mean       0.021573     62.472625      0.107019      0.107019   1691.933277   \n",
       "std        0.025348     38.912129      0.093211      0.093211   4526.885970   \n",
       "min       -0.049000      0.364000     -0.028000     -0.028000      0.621000   \n",
       "25%        0.004000     34.274000      0.030000      0.030000     14.618500   \n",
       "50%        0.017000     58.509000      0.106000      0.106000     70.726000   \n",
       "75%        0.033000     89.788500      0.159000      0.159000    536.075500   \n",
       "max        0.384000    201.322000      0.700000      0.700000  51645.203100   \n",
       "\n",
       "          RDEEP_LAT  RDEEP_LOG_10         RSHAL     RSHAL_LAT           RXO  \n",
       "count  20627.000000  20627.000000  20268.000000  20268.000000  20678.000000  \n",
       "mean    1691.933277      2.035250    280.435050    280.435050    318.046203  \n",
       "std     4526.885970      1.047186    447.683724    447.683724    556.098712  \n",
       "min        0.621000     -0.206908      0.632000      0.632000      0.195000  \n",
       "25%       14.618500      1.164903     10.653250     10.653250     10.400000  \n",
       "50%       70.726000      1.849579     45.397000     45.397000     38.973000  \n",
       "75%      536.075500      2.729226    317.706750    317.706750    337.279750  \n",
       "max    51645.203100      4.713030   2094.257100   2094.257100   2094.257100  "
      ]
     },
     "execution_count": 12,
     "metadata": {},
     "output_type": "execute_result"
    }
   ],
   "source": [
    "df_petro2.describe()"
   ]
  },
  {
   "cell_type": "code",
   "execution_count": 13,
   "metadata": {},
   "outputs": [
    {
     "data": {
      "text/plain": [
       "MD                 0\n",
       "BH_CALI          812\n",
       "BH_DRHO          819\n",
       "CALI             818\n",
       "DPHI_UNK        1058\n",
       "DRHO             819\n",
       "GR                53\n",
       "NPHI              32\n",
       "NPHI_UNK          32\n",
       "RDEEP            952\n",
       "RDEEP_LAT        952\n",
       "RDEEP_LOG_10     952\n",
       "RSHAL           1311\n",
       "RSHAL_LAT       1311\n",
       "RXO              901\n",
       "dtype: int64"
      ]
     },
     "execution_count": 13,
     "metadata": {},
     "output_type": "execute_result"
    }
   ],
   "source": [
    "df_petro2.isna().sum()"
   ]
  },
  {
   "cell_type": "code",
   "execution_count": 14,
   "metadata": {},
   "outputs": [],
   "source": [
    "df_drop = df_petro2.dropna(subset=['GR'])"
   ]
  },
  {
   "cell_type": "code",
   "execution_count": 15,
   "metadata": {},
   "outputs": [
    {
     "data": {
      "text/html": [
       "<div>\n",
       "<style scoped>\n",
       "    .dataframe tbody tr th:only-of-type {\n",
       "        vertical-align: middle;\n",
       "    }\n",
       "\n",
       "    .dataframe tbody tr th {\n",
       "        vertical-align: top;\n",
       "    }\n",
       "\n",
       "    .dataframe thead th {\n",
       "        text-align: right;\n",
       "    }\n",
       "</style>\n",
       "<table border=\"1\" class=\"dataframe\">\n",
       "  <thead>\n",
       "    <tr style=\"text-align: right;\">\n",
       "      <th></th>\n",
       "      <th>MD</th>\n",
       "      <th>BH_CALI</th>\n",
       "      <th>BH_DRHO</th>\n",
       "      <th>CALI</th>\n",
       "      <th>DPHI_UNK</th>\n",
       "      <th>DRHO</th>\n",
       "      <th>GR</th>\n",
       "      <th>NPHI</th>\n",
       "      <th>NPHI_UNK</th>\n",
       "      <th>RDEEP</th>\n",
       "      <th>RDEEP_LAT</th>\n",
       "      <th>RDEEP_LOG_10</th>\n",
       "      <th>RSHAL</th>\n",
       "      <th>RSHAL_LAT</th>\n",
       "      <th>RXO</th>\n",
       "    </tr>\n",
       "  </thead>\n",
       "  <tbody>\n",
       "    <tr>\n",
       "      <th>count</th>\n",
       "      <td>21526.000000</td>\n",
       "      <td>20715.000000</td>\n",
       "      <td>20707.000000</td>\n",
       "      <td>20710.000000</td>\n",
       "      <td>20472.000000</td>\n",
       "      <td>20707.000000</td>\n",
       "      <td>21526.000000</td>\n",
       "      <td>21526.000000</td>\n",
       "      <td>21526.000000</td>\n",
       "      <td>20607.000000</td>\n",
       "      <td>20607.000000</td>\n",
       "      <td>20607.000000</td>\n",
       "      <td>20250.000000</td>\n",
       "      <td>20250.000000</td>\n",
       "      <td>20627.000000</td>\n",
       "    </tr>\n",
       "    <tr>\n",
       "      <th>mean</th>\n",
       "      <td>5383.250000</td>\n",
       "      <td>0.002510</td>\n",
       "      <td>0.013329</td>\n",
       "      <td>10.740215</td>\n",
       "      <td>0.074167</td>\n",
       "      <td>0.021576</td>\n",
       "      <td>62.472625</td>\n",
       "      <td>0.106924</td>\n",
       "      <td>0.106924</td>\n",
       "      <td>1693.557983</td>\n",
       "      <td>1693.557983</td>\n",
       "      <td>2.036010</td>\n",
       "      <td>280.667597</td>\n",
       "      <td>280.667597</td>\n",
       "      <td>318.787394</td>\n",
       "    </tr>\n",
       "    <tr>\n",
       "      <th>std</th>\n",
       "      <td>3107.082642</td>\n",
       "      <td>0.050041</td>\n",
       "      <td>0.114681</td>\n",
       "      <td>2.416140</td>\n",
       "      <td>0.103903</td>\n",
       "      <td>0.025357</td>\n",
       "      <td>38.912129</td>\n",
       "      <td>0.093206</td>\n",
       "      <td>0.093206</td>\n",
       "      <td>4528.781741</td>\n",
       "      <td>4528.781741</td>\n",
       "      <td>1.047409</td>\n",
       "      <td>447.814672</td>\n",
       "      <td>447.814672</td>\n",
       "      <td>556.585707</td>\n",
       "    </tr>\n",
       "    <tr>\n",
       "      <th>min</th>\n",
       "      <td>2.000000</td>\n",
       "      <td>0.000000</td>\n",
       "      <td>0.000000</td>\n",
       "      <td>6.157000</td>\n",
       "      <td>-0.213000</td>\n",
       "      <td>-0.049000</td>\n",
       "      <td>0.364000</td>\n",
       "      <td>-0.028000</td>\n",
       "      <td>-0.028000</td>\n",
       "      <td>0.621000</td>\n",
       "      <td>0.621000</td>\n",
       "      <td>-0.206908</td>\n",
       "      <td>0.632000</td>\n",
       "      <td>0.632000</td>\n",
       "      <td>0.195000</td>\n",
       "    </tr>\n",
       "    <tr>\n",
       "      <th>25%</th>\n",
       "      <td>2692.625000</td>\n",
       "      <td>0.000000</td>\n",
       "      <td>0.000000</td>\n",
       "      <td>8.535000</td>\n",
       "      <td>0.041000</td>\n",
       "      <td>0.004000</td>\n",
       "      <td>34.274000</td>\n",
       "      <td>0.030000</td>\n",
       "      <td>0.030000</td>\n",
       "      <td>14.595000</td>\n",
       "      <td>14.595000</td>\n",
       "      <td>1.164204</td>\n",
       "      <td>10.651000</td>\n",
       "      <td>10.651000</td>\n",
       "      <td>10.349000</td>\n",
       "    </tr>\n",
       "    <tr>\n",
       "      <th>50%</th>\n",
       "      <td>5383.250000</td>\n",
       "      <td>0.000000</td>\n",
       "      <td>0.000000</td>\n",
       "      <td>9.300000</td>\n",
       "      <td>0.080000</td>\n",
       "      <td>0.017000</td>\n",
       "      <td>58.509000</td>\n",
       "      <td>0.106000</td>\n",
       "      <td>0.106000</td>\n",
       "      <td>71.178000</td>\n",
       "      <td>71.178000</td>\n",
       "      <td>1.852346</td>\n",
       "      <td>45.425000</td>\n",
       "      <td>45.425000</td>\n",
       "      <td>39.177000</td>\n",
       "    </tr>\n",
       "    <tr>\n",
       "      <th>75%</th>\n",
       "      <td>8073.875000</td>\n",
       "      <td>0.000000</td>\n",
       "      <td>0.000000</td>\n",
       "      <td>12.951000</td>\n",
       "      <td>0.119000</td>\n",
       "      <td>0.033000</td>\n",
       "      <td>89.788500</td>\n",
       "      <td>0.159000</td>\n",
       "      <td>0.159000</td>\n",
       "      <td>538.485000</td>\n",
       "      <td>538.485000</td>\n",
       "      <td>2.731174</td>\n",
       "      <td>319.377750</td>\n",
       "      <td>319.377750</td>\n",
       "      <td>338.088000</td>\n",
       "    </tr>\n",
       "    <tr>\n",
       "      <th>max</th>\n",
       "      <td>10764.500000</td>\n",
       "      <td>1.000000</td>\n",
       "      <td>1.000000</td>\n",
       "      <td>18.198000</td>\n",
       "      <td>0.699000</td>\n",
       "      <td>0.384000</td>\n",
       "      <td>201.322000</td>\n",
       "      <td>0.700000</td>\n",
       "      <td>0.700000</td>\n",
       "      <td>51645.203100</td>\n",
       "      <td>51645.203100</td>\n",
       "      <td>4.713030</td>\n",
       "      <td>2094.257100</td>\n",
       "      <td>2094.257100</td>\n",
       "      <td>2094.257100</td>\n",
       "    </tr>\n",
       "  </tbody>\n",
       "</table>\n",
       "</div>"
      ],
      "text/plain": [
       "                 MD       BH_CALI       BH_DRHO          CALI      DPHI_UNK  \\\n",
       "count  21526.000000  20715.000000  20707.000000  20710.000000  20472.000000   \n",
       "mean    5383.250000      0.002510      0.013329     10.740215      0.074167   \n",
       "std     3107.082642      0.050041      0.114681      2.416140      0.103903   \n",
       "min        2.000000      0.000000      0.000000      6.157000     -0.213000   \n",
       "25%     2692.625000      0.000000      0.000000      8.535000      0.041000   \n",
       "50%     5383.250000      0.000000      0.000000      9.300000      0.080000   \n",
       "75%     8073.875000      0.000000      0.000000     12.951000      0.119000   \n",
       "max    10764.500000      1.000000      1.000000     18.198000      0.699000   \n",
       "\n",
       "               DRHO            GR          NPHI      NPHI_UNK         RDEEP  \\\n",
       "count  20707.000000  21526.000000  21526.000000  21526.000000  20607.000000   \n",
       "mean       0.021576     62.472625      0.106924      0.106924   1693.557983   \n",
       "std        0.025357     38.912129      0.093206      0.093206   4528.781741   \n",
       "min       -0.049000      0.364000     -0.028000     -0.028000      0.621000   \n",
       "25%        0.004000     34.274000      0.030000      0.030000     14.595000   \n",
       "50%        0.017000     58.509000      0.106000      0.106000     71.178000   \n",
       "75%        0.033000     89.788500      0.159000      0.159000    538.485000   \n",
       "max        0.384000    201.322000      0.700000      0.700000  51645.203100   \n",
       "\n",
       "          RDEEP_LAT  RDEEP_LOG_10         RSHAL     RSHAL_LAT           RXO  \n",
       "count  20607.000000  20607.000000  20250.000000  20250.000000  20627.000000  \n",
       "mean    1693.557983      2.036010    280.667597    280.667597    318.787394  \n",
       "std     4528.781741      1.047409    447.814672    447.814672    556.585707  \n",
       "min        0.621000     -0.206908      0.632000      0.632000      0.195000  \n",
       "25%       14.595000      1.164204     10.651000     10.651000     10.349000  \n",
       "50%       71.178000      1.852346     45.425000     45.425000     39.177000  \n",
       "75%      538.485000      2.731174    319.377750    319.377750    338.088000  \n",
       "max    51645.203100      4.713030   2094.257100   2094.257100   2094.257100  "
      ]
     },
     "execution_count": 15,
     "metadata": {},
     "output_type": "execute_result"
    }
   ],
   "source": [
    "df_drop.describe()"
   ]
  },
  {
   "cell_type": "markdown",
   "metadata": {},
   "source": [
    "# 1B\n",
    "* Read the attribute grid. \n",
    "* Plot the spatial variation of the ATTR1 property \n",
    "* Show the location of the well from part A. \n",
    "* **Bonus**: what is the value of ATTR1 at the well location from part A? \n",
    "\n",
    "* An attribute grid (`ATTR1_map.csv`) "
   ]
  },
  {
   "cell_type": "markdown",
   "metadata": {},
   "source": [
    "# Start with reading the attribute grid. "
   ]
  },
  {
   "cell_type": "code",
   "execution_count": 16,
   "metadata": {},
   "outputs": [],
   "source": [
    "#pip install geopandas"
   ]
  },
  {
   "cell_type": "code",
   "execution_count": 17,
   "metadata": {},
   "outputs": [
    {
     "data": {
      "text/html": [
       "<div>\n",
       "<style scoped>\n",
       "    .dataframe tbody tr th:only-of-type {\n",
       "        vertical-align: middle;\n",
       "    }\n",
       "\n",
       "    .dataframe tbody tr th {\n",
       "        vertical-align: top;\n",
       "    }\n",
       "\n",
       "    .dataframe thead th {\n",
       "        text-align: right;\n",
       "    }\n",
       "</style>\n",
       "<table border=\"1\" class=\"dataframe\">\n",
       "  <thead>\n",
       "    <tr style=\"text-align: right;\">\n",
       "      <th></th>\n",
       "      <th>longitude</th>\n",
       "      <th>latitude</th>\n",
       "      <th>ATTR1</th>\n",
       "    </tr>\n",
       "  </thead>\n",
       "  <tbody>\n",
       "    <tr>\n",
       "      <th>0</th>\n",
       "      <td>-104.00</td>\n",
       "      <td>31.4</td>\n",
       "      <td>NaN</td>\n",
       "    </tr>\n",
       "    <tr>\n",
       "      <th>1</th>\n",
       "      <td>-103.99</td>\n",
       "      <td>31.4</td>\n",
       "      <td>NaN</td>\n",
       "    </tr>\n",
       "    <tr>\n",
       "      <th>2</th>\n",
       "      <td>-103.98</td>\n",
       "      <td>31.4</td>\n",
       "      <td>NaN</td>\n",
       "    </tr>\n",
       "    <tr>\n",
       "      <th>3</th>\n",
       "      <td>-103.97</td>\n",
       "      <td>31.4</td>\n",
       "      <td>NaN</td>\n",
       "    </tr>\n",
       "    <tr>\n",
       "      <th>4</th>\n",
       "      <td>-103.96</td>\n",
       "      <td>31.4</td>\n",
       "      <td>NaN</td>\n",
       "    </tr>\n",
       "  </tbody>\n",
       "</table>\n",
       "</div>"
      ],
      "text/plain": [
       "   longitude  latitude  ATTR1\n",
       "0    -104.00      31.4    NaN\n",
       "1    -103.99      31.4    NaN\n",
       "2    -103.98      31.4    NaN\n",
       "3    -103.97      31.4    NaN\n",
       "4    -103.96      31.4    NaN"
      ]
     },
     "execution_count": 17,
     "metadata": {},
     "output_type": "execute_result"
    }
   ],
   "source": [
    "from shapely.geometry import Point\n",
    "import geopandas as gpd\n",
    "from geopandas import GeoDataFrame\n",
    "from pandas import read_csv\n",
    "import matplotlib.pyplot as plt\n",
    "filename = 'C:/Users/dylwh/Desktop/subsurface_data_assessment-main/data/part1/ATTR1_map.csv'\n",
    "dataset = read_csv(filename)\n",
    "crs={'init':'epsg:4326'}\n",
    "dataset.head()"
   ]
  },
  {
   "cell_type": "code",
   "execution_count": 18,
   "metadata": {},
   "outputs": [
    {
     "name": "stdout",
     "output_type": "stream",
     "text": [
      "<class 'pandas.core.frame.DataFrame'>\n",
      "RangeIndex: 2460 entries, 0 to 2459\n",
      "Data columns (total 3 columns):\n",
      " #   Column     Non-Null Count  Dtype  \n",
      "---  ------     --------------  -----  \n",
      " 0   longitude  2460 non-null   float64\n",
      " 1   latitude   2460 non-null   float64\n",
      " 2   ATTR1      2301 non-null   float64\n",
      "dtypes: float64(3)\n",
      "memory usage: 57.8 KB\n"
     ]
    }
   ],
   "source": [
    "dataset.info()"
   ]
  },
  {
   "cell_type": "code",
   "execution_count": 19,
   "metadata": {},
   "outputs": [
    {
     "data": {
      "text/html": [
       "<div>\n",
       "<style scoped>\n",
       "    .dataframe tbody tr th:only-of-type {\n",
       "        vertical-align: middle;\n",
       "    }\n",
       "\n",
       "    .dataframe tbody tr th {\n",
       "        vertical-align: top;\n",
       "    }\n",
       "\n",
       "    .dataframe thead th {\n",
       "        text-align: right;\n",
       "    }\n",
       "</style>\n",
       "<table border=\"1\" class=\"dataframe\">\n",
       "  <thead>\n",
       "    <tr style=\"text-align: right;\">\n",
       "      <th></th>\n",
       "      <th>longitude</th>\n",
       "      <th>latitude</th>\n",
       "      <th>ATTR1</th>\n",
       "    </tr>\n",
       "  </thead>\n",
       "  <tbody>\n",
       "    <tr>\n",
       "      <th>0</th>\n",
       "      <td>-104.00</td>\n",
       "      <td>31.4</td>\n",
       "      <td>NaN</td>\n",
       "    </tr>\n",
       "    <tr>\n",
       "      <th>1</th>\n",
       "      <td>-103.99</td>\n",
       "      <td>31.4</td>\n",
       "      <td>NaN</td>\n",
       "    </tr>\n",
       "    <tr>\n",
       "      <th>2</th>\n",
       "      <td>-103.98</td>\n",
       "      <td>31.4</td>\n",
       "      <td>NaN</td>\n",
       "    </tr>\n",
       "    <tr>\n",
       "      <th>3</th>\n",
       "      <td>-103.97</td>\n",
       "      <td>31.4</td>\n",
       "      <td>NaN</td>\n",
       "    </tr>\n",
       "    <tr>\n",
       "      <th>4</th>\n",
       "      <td>-103.96</td>\n",
       "      <td>31.4</td>\n",
       "      <td>NaN</td>\n",
       "    </tr>\n",
       "    <tr>\n",
       "      <th>5</th>\n",
       "      <td>-103.95</td>\n",
       "      <td>31.4</td>\n",
       "      <td>NaN</td>\n",
       "    </tr>\n",
       "    <tr>\n",
       "      <th>6</th>\n",
       "      <td>-103.94</td>\n",
       "      <td>31.4</td>\n",
       "      <td>NaN</td>\n",
       "    </tr>\n",
       "    <tr>\n",
       "      <th>7</th>\n",
       "      <td>-103.93</td>\n",
       "      <td>31.4</td>\n",
       "      <td>NaN</td>\n",
       "    </tr>\n",
       "    <tr>\n",
       "      <th>8</th>\n",
       "      <td>-103.92</td>\n",
       "      <td>31.4</td>\n",
       "      <td>NaN</td>\n",
       "    </tr>\n",
       "    <tr>\n",
       "      <th>9</th>\n",
       "      <td>-103.91</td>\n",
       "      <td>31.4</td>\n",
       "      <td>NaN</td>\n",
       "    </tr>\n",
       "  </tbody>\n",
       "</table>\n",
       "</div>"
      ],
      "text/plain": [
       "   longitude  latitude  ATTR1\n",
       "0    -104.00      31.4    NaN\n",
       "1    -103.99      31.4    NaN\n",
       "2    -103.98      31.4    NaN\n",
       "3    -103.97      31.4    NaN\n",
       "4    -103.96      31.4    NaN\n",
       "5    -103.95      31.4    NaN\n",
       "6    -103.94      31.4    NaN\n",
       "7    -103.93      31.4    NaN\n",
       "8    -103.92      31.4    NaN\n",
       "9    -103.91      31.4    NaN"
      ]
     },
     "execution_count": 19,
     "metadata": {},
     "output_type": "execute_result"
    }
   ],
   "source": [
    "dataset.head(10)"
   ]
  },
  {
   "cell_type": "code",
   "execution_count": 20,
   "metadata": {},
   "outputs": [
    {
     "data": {
      "text/html": [
       "<div>\n",
       "<style scoped>\n",
       "    .dataframe tbody tr th:only-of-type {\n",
       "        vertical-align: middle;\n",
       "    }\n",
       "\n",
       "    .dataframe tbody tr th {\n",
       "        vertical-align: top;\n",
       "    }\n",
       "\n",
       "    .dataframe thead th {\n",
       "        text-align: right;\n",
       "    }\n",
       "</style>\n",
       "<table border=\"1\" class=\"dataframe\">\n",
       "  <thead>\n",
       "    <tr style=\"text-align: right;\">\n",
       "      <th></th>\n",
       "      <th>longitude</th>\n",
       "      <th>latitude</th>\n",
       "      <th>ATTR1</th>\n",
       "    </tr>\n",
       "  </thead>\n",
       "  <tbody>\n",
       "    <tr>\n",
       "      <th>count</th>\n",
       "      <td>2460.000000</td>\n",
       "      <td>2460.000000</td>\n",
       "      <td>2301.000000</td>\n",
       "    </tr>\n",
       "    <tr>\n",
       "      <th>mean</th>\n",
       "      <td>-103.705000</td>\n",
       "      <td>31.600000</td>\n",
       "      <td>0.779974</td>\n",
       "    </tr>\n",
       "    <tr>\n",
       "      <th>std</th>\n",
       "      <td>0.173216</td>\n",
       "      <td>0.118346</td>\n",
       "      <td>0.139038</td>\n",
       "    </tr>\n",
       "    <tr>\n",
       "      <th>min</th>\n",
       "      <td>-104.000000</td>\n",
       "      <td>31.400000</td>\n",
       "      <td>0.409981</td>\n",
       "    </tr>\n",
       "    <tr>\n",
       "      <th>25%</th>\n",
       "      <td>-103.852500</td>\n",
       "      <td>31.500000</td>\n",
       "      <td>0.696479</td>\n",
       "    </tr>\n",
       "    <tr>\n",
       "      <th>50%</th>\n",
       "      <td>-103.705000</td>\n",
       "      <td>31.600000</td>\n",
       "      <td>0.794837</td>\n",
       "    </tr>\n",
       "    <tr>\n",
       "      <th>75%</th>\n",
       "      <td>-103.557500</td>\n",
       "      <td>31.700000</td>\n",
       "      <td>0.885477</td>\n",
       "    </tr>\n",
       "    <tr>\n",
       "      <th>max</th>\n",
       "      <td>-103.410000</td>\n",
       "      <td>31.800000</td>\n",
       "      <td>0.999925</td>\n",
       "    </tr>\n",
       "  </tbody>\n",
       "</table>\n",
       "</div>"
      ],
      "text/plain": [
       "         longitude     latitude        ATTR1\n",
       "count  2460.000000  2460.000000  2301.000000\n",
       "mean   -103.705000    31.600000     0.779974\n",
       "std       0.173216     0.118346     0.139038\n",
       "min    -104.000000    31.400000     0.409981\n",
       "25%    -103.852500    31.500000     0.696479\n",
       "50%    -103.705000    31.600000     0.794837\n",
       "75%    -103.557500    31.700000     0.885477\n",
       "max    -103.410000    31.800000     0.999925"
      ]
     },
     "execution_count": 20,
     "metadata": {},
     "output_type": "execute_result"
    }
   ],
   "source": [
    "dataset.describe()"
   ]
  },
  {
   "cell_type": "code",
   "execution_count": 21,
   "metadata": {},
   "outputs": [
    {
     "name": "stderr",
     "output_type": "stream",
     "text": [
      "c:\\Users\\dylwh\\anaconda3\\lib\\site-packages\\pyproj\\crs\\crs.py:130: FutureWarning: '+init=<authority>:<code>' syntax is deprecated. '<authority>:<code>' is the preferred initialization method. When making the change, be mindful of axis order changes: https://pyproj4.github.io/pyproj/stable/gotchas.html#axis-order-changes-in-proj-6\n",
      "  in_crs_string = _prepare_from_proj_string(in_crs_string)\n"
     ]
    }
   ],
   "source": [
    "geometry = [Point(xy) for xy in zip(dataset['longitude'], dataset['latitude'])]\n",
    "geo_df = gpd.GeoDataFrame(dataset,\n",
    " crs = crs,\n",
    " geometry = geometry)\n",
    "geo_df = geo_df.drop(columns=['longitude','latitude'])"
   ]
  },
  {
   "cell_type": "code",
   "execution_count": 22,
   "metadata": {},
   "outputs": [
    {
     "data": {
      "text/html": [
       "<div>\n",
       "<style scoped>\n",
       "    .dataframe tbody tr th:only-of-type {\n",
       "        vertical-align: middle;\n",
       "    }\n",
       "\n",
       "    .dataframe tbody tr th {\n",
       "        vertical-align: top;\n",
       "    }\n",
       "\n",
       "    .dataframe thead th {\n",
       "        text-align: right;\n",
       "    }\n",
       "</style>\n",
       "<table border=\"1\" class=\"dataframe\">\n",
       "  <thead>\n",
       "    <tr style=\"text-align: right;\">\n",
       "      <th></th>\n",
       "      <th>ATTR1</th>\n",
       "      <th>geometry</th>\n",
       "    </tr>\n",
       "  </thead>\n",
       "  <tbody>\n",
       "    <tr>\n",
       "      <th>0</th>\n",
       "      <td>NaN</td>\n",
       "      <td>POINT (-104.00000 31.40000)</td>\n",
       "    </tr>\n",
       "    <tr>\n",
       "      <th>1</th>\n",
       "      <td>NaN</td>\n",
       "      <td>POINT (-103.99000 31.40000)</td>\n",
       "    </tr>\n",
       "    <tr>\n",
       "      <th>2</th>\n",
       "      <td>NaN</td>\n",
       "      <td>POINT (-103.98000 31.40000)</td>\n",
       "    </tr>\n",
       "    <tr>\n",
       "      <th>3</th>\n",
       "      <td>NaN</td>\n",
       "      <td>POINT (-103.97000 31.40000)</td>\n",
       "    </tr>\n",
       "    <tr>\n",
       "      <th>4</th>\n",
       "      <td>NaN</td>\n",
       "      <td>POINT (-103.96000 31.40000)</td>\n",
       "    </tr>\n",
       "  </tbody>\n",
       "</table>\n",
       "</div>"
      ],
      "text/plain": [
       "   ATTR1                     geometry\n",
       "0    NaN  POINT (-104.00000 31.40000)\n",
       "1    NaN  POINT (-103.99000 31.40000)\n",
       "2    NaN  POINT (-103.98000 31.40000)\n",
       "3    NaN  POINT (-103.97000 31.40000)\n",
       "4    NaN  POINT (-103.96000 31.40000)"
      ]
     },
     "execution_count": 22,
     "metadata": {},
     "output_type": "execute_result"
    }
   ],
   "source": [
    "geo_df.head()"
   ]
  },
  {
   "cell_type": "markdown",
   "metadata": {},
   "source": [
    "Long: -103.663049999873;\n",
    "Lat: 31.5180500000053"
   ]
  },
  {
   "cell_type": "code",
   "execution_count": 23,
   "metadata": {},
   "outputs": [
    {
     "name": "stdout",
     "output_type": "stream",
     "text": [
      "(1, 3)\n",
      "   longitude  latitude  loc\n",
      "0 -103.66305  31.51805  1.0\n",
      "longitude    float64\n",
      "latitude     float64\n",
      "loc          float64\n",
      "dtype: object\n"
     ]
    }
   ],
   "source": [
    "coord = [['-103.663049999873'],['31.5180500000053'],['1']]\n",
    "well_A = pd.DataFrame(coord).transpose()\n",
    "well_A.columns=['longitude','latitude','loc']\n",
    "\n",
    "well_A['longitude'] = well_A['longitude'].astype(float)\n",
    "well_A['latitude'] = well_A['latitude'].astype(float)\n",
    "well_A['loc'] = well_A['loc'].astype(float)\n",
    "well_A = well_A\n",
    "print(well_A.shape)\n",
    "print(well_A)\n",
    "print(well_A.dtypes)"
   ]
  },
  {
   "cell_type": "code",
   "execution_count": 24,
   "metadata": {},
   "outputs": [
    {
     "name": "stderr",
     "output_type": "stream",
     "text": [
      "c:\\Users\\dylwh\\anaconda3\\lib\\site-packages\\pyproj\\crs\\crs.py:130: FutureWarning: '+init=<authority>:<code>' syntax is deprecated. '<authority>:<code>' is the preferred initialization method. When making the change, be mindful of axis order changes: https://pyproj4.github.io/pyproj/stable/gotchas.html#axis-order-changes-in-proj-6\n",
      "  in_crs_string = _prepare_from_proj_string(in_crs_string)\n"
     ]
    },
    {
     "name": "stdout",
     "output_type": "stream",
     "text": [
      "   loc                     geometry\n",
      "0  1.0  POINT (-103.66305 31.51805)\n"
     ]
    }
   ],
   "source": [
    "geometry = [Point(xy) for xy in zip(well_A['longitude'], well_A['latitude'])]\n",
    "well_df = gpd.GeoDataFrame(well_A,\n",
    " crs = crs,\n",
    " geometry = geometry)\n",
    "well_df = well_df.drop(columns=['longitude','latitude'])\n",
    "print(well_df)"
   ]
  },
  {
   "cell_type": "code",
   "execution_count": 25,
   "metadata": {},
   "outputs": [
    {
     "data": {
      "text/plain": [
       "Text(0.5, 1.0, 'ATTR1')"
      ]
     },
     "execution_count": 25,
     "metadata": {},
     "output_type": "execute_result"
    },
    {
     "data": {
      "image/png": "[encoded data removed]",
      "text/plain": [
       "<Figure size 1440x1440 with 2 Axes>"
      ]
     },
     "metadata": {
      "needs_background": "light"
     },
     "output_type": "display_data"
    }
   ],
   "source": [
    "fig, ax = plt.subplots(figsize=(20,20))\n",
    "well_df.plot(column='loc' , ax=ax, marker='o',\n",
    "    markersize=60, alpha=1)\n",
    "geo_df.plot(column='ATTR1' , ax=ax , alpha=0.7 ,\n",
    "    legend=True , cmap = 'rainbow',\n",
    "    legend_kwds = {'shrink': 0.5}, markersize=20)\n",
    "ax.set_title('ATTR1')"
   ]
  },
  {
   "cell_type": "code",
   "execution_count": 26,
   "metadata": {},
   "outputs": [
    {
     "name": "stdout",
     "output_type": "stream",
     "text": [
      "     longitude  latitude     ATTR1                     geometry\n",
      "694    -103.66     31.51  0.979536  POINT (-103.66000 31.51000)\n"
     ]
    }
   ],
   "source": [
    "wella_ATTR1 = dataset[(dataset['longitude'] == -103.66) & (dataset['latitude'] == 31.51)]\n",
    "print(wella_ATTR1)"
   ]
  },
  {
   "cell_type": "markdown",
   "metadata": {},
   "source": [
    "# 1C) Production Data\n",
    "* Read the production file. \n",
    "* Plot the monthly production from the well in part A \n",
    "* Determine the total production (oil, gas, water) for each well.  \n",
    "* Determine the total barrel of oil equivalent (BOE) produced for each well.  Use a suitable conversion factor to convert MCF gas to BOE, and assume 1 bbl oil = 1 BOE.\n",
    "* Save this summary data to a csv file for all wells that produced more than 100,000 BOE.  How many wells have BOE > 100,000? \n",
    "* Determine the well with the highest total BOE. "
   ]
  },
  {
   "cell_type": "code",
   "execution_count": 27,
   "metadata": {},
   "outputs": [
    {
     "data": {
      "text/html": [
       "<div>\n",
       "<style scoped>\n",
       "    .dataframe tbody tr th:only-of-type {\n",
       "        vertical-align: middle;\n",
       "    }\n",
       "\n",
       "    .dataframe tbody tr th {\n",
       "        vertical-align: top;\n",
       "    }\n",
       "\n",
       "    .dataframe thead th {\n",
       "        text-align: right;\n",
       "    }\n",
       "</style>\n",
       "<table border=\"1\" class=\"dataframe\">\n",
       "  <thead>\n",
       "    <tr style=\"text-align: right;\">\n",
       "      <th></th>\n",
       "      <th>API</th>\n",
       "      <th>M_OIL_BBL</th>\n",
       "      <th>M_GAS_MCF</th>\n",
       "      <th>M_WATER_BBL</th>\n",
       "    </tr>\n",
       "    <tr>\n",
       "      <th>proddate</th>\n",
       "      <th></th>\n",
       "      <th></th>\n",
       "      <th></th>\n",
       "      <th></th>\n",
       "    </tr>\n",
       "  </thead>\n",
       "  <tbody>\n",
       "    <tr>\n",
       "      <th>2008-09-01</th>\n",
       "      <td>4210932294</td>\n",
       "      <td>52.0</td>\n",
       "      <td>15134.0</td>\n",
       "      <td>2068.0</td>\n",
       "    </tr>\n",
       "    <tr>\n",
       "      <th>2008-10-01</th>\n",
       "      <td>4210932294</td>\n",
       "      <td>52.0</td>\n",
       "      <td>15134.0</td>\n",
       "      <td>2068.0</td>\n",
       "    </tr>\n",
       "    <tr>\n",
       "      <th>2008-11-01</th>\n",
       "      <td>4210932294</td>\n",
       "      <td>3.0</td>\n",
       "      <td>14351.0</td>\n",
       "      <td>1961.0</td>\n",
       "    </tr>\n",
       "    <tr>\n",
       "      <th>2008-12-01</th>\n",
       "      <td>4210932294</td>\n",
       "      <td>17.0</td>\n",
       "      <td>8195.0</td>\n",
       "      <td>1120.0</td>\n",
       "    </tr>\n",
       "    <tr>\n",
       "      <th>2009-01-01</th>\n",
       "      <td>4210932294</td>\n",
       "      <td>36.0</td>\n",
       "      <td>9949.0</td>\n",
       "      <td>1360.0</td>\n",
       "    </tr>\n",
       "    <tr>\n",
       "      <th>...</th>\n",
       "      <td>...</td>\n",
       "      <td>...</td>\n",
       "      <td>...</td>\n",
       "      <td>...</td>\n",
       "    </tr>\n",
       "    <tr>\n",
       "      <th>2021-09-01</th>\n",
       "      <td>4210932605</td>\n",
       "      <td>8.0</td>\n",
       "      <td>0.0</td>\n",
       "      <td>0.0</td>\n",
       "    </tr>\n",
       "    <tr>\n",
       "      <th>2021-10-01</th>\n",
       "      <td>4210932605</td>\n",
       "      <td>225.0</td>\n",
       "      <td>13344.0</td>\n",
       "      <td>1485.0</td>\n",
       "    </tr>\n",
       "    <tr>\n",
       "      <th>2021-11-01</th>\n",
       "      <td>4210932605</td>\n",
       "      <td>476.0</td>\n",
       "      <td>14446.0</td>\n",
       "      <td>1607.0</td>\n",
       "    </tr>\n",
       "    <tr>\n",
       "      <th>2021-12-01</th>\n",
       "      <td>4210932605</td>\n",
       "      <td>496.0</td>\n",
       "      <td>27608.0</td>\n",
       "      <td>3072.0</td>\n",
       "    </tr>\n",
       "    <tr>\n",
       "      <th>2022-01-01</th>\n",
       "      <td>4210932605</td>\n",
       "      <td>317.0</td>\n",
       "      <td>11851.0</td>\n",
       "      <td>1319.0</td>\n",
       "    </tr>\n",
       "  </tbody>\n",
       "</table>\n",
       "<p>9330 rows × 4 columns</p>\n",
       "</div>"
      ],
      "text/plain": [
       "                   API  M_OIL_BBL  M_GAS_MCF  M_WATER_BBL\n",
       "proddate                                                 \n",
       "2008-09-01  4210932294       52.0    15134.0       2068.0\n",
       "2008-10-01  4210932294       52.0    15134.0       2068.0\n",
       "2008-11-01  4210932294        3.0    14351.0       1961.0\n",
       "2008-12-01  4210932294       17.0     8195.0       1120.0\n",
       "2009-01-01  4210932294       36.0     9949.0       1360.0\n",
       "...                ...        ...        ...          ...\n",
       "2021-09-01  4210932605        8.0        0.0          0.0\n",
       "2021-10-01  4210932605      225.0    13344.0       1485.0\n",
       "2021-11-01  4210932605      476.0    14446.0       1607.0\n",
       "2021-12-01  4210932605      496.0    27608.0       3072.0\n",
       "2022-01-01  4210932605      317.0    11851.0       1319.0\n",
       "\n",
       "[9330 rows x 4 columns]"
      ]
     },
     "execution_count": 27,
     "metadata": {},
     "output_type": "execute_result"
    }
   ],
   "source": [
    "import pandas as pd\n",
    "import matplotlib.pyplot as plt\n",
    "\n",
    "filename = 'C:/Users/dylwh/Desktop/subsurface_data_assessment-main/data/part1/MonthlyProduction.csv'\n",
    "#prod_df = read_csv(filename)\n",
    "\n",
    "prod_df = read_csv(filename, index_col=['proddate'])\n",
    "prod_df.dropna(axis=0)\n"
   ]
  },
  {
   "cell_type": "code",
   "execution_count": 28,
   "metadata": {},
   "outputs": [
    {
     "data": {
      "text/plain": [
       "(10038, 4)"
      ]
     },
     "execution_count": 28,
     "metadata": {},
     "output_type": "execute_result"
    }
   ],
   "source": [
    "prod_df.shape"
   ]
  },
  {
   "cell_type": "code",
   "execution_count": 29,
   "metadata": {},
   "outputs": [
    {
     "data": {
      "text/html": [
       "<div>\n",
       "<style scoped>\n",
       "    .dataframe tbody tr th:only-of-type {\n",
       "        vertical-align: middle;\n",
       "    }\n",
       "\n",
       "    .dataframe tbody tr th {\n",
       "        vertical-align: top;\n",
       "    }\n",
       "\n",
       "    .dataframe thead th {\n",
       "        text-align: right;\n",
       "    }\n",
       "</style>\n",
       "<table border=\"1\" class=\"dataframe\">\n",
       "  <thead>\n",
       "    <tr style=\"text-align: right;\">\n",
       "      <th></th>\n",
       "      <th>API</th>\n",
       "      <th>M_OIL_BBL</th>\n",
       "      <th>M_GAS_MCF</th>\n",
       "      <th>M_WATER_BBL</th>\n",
       "    </tr>\n",
       "    <tr>\n",
       "      <th>proddate</th>\n",
       "      <th></th>\n",
       "      <th></th>\n",
       "      <th></th>\n",
       "      <th></th>\n",
       "    </tr>\n",
       "  </thead>\n",
       "  <tbody>\n",
       "    <tr>\n",
       "      <th>2008-09-01</th>\n",
       "      <td>4210932294</td>\n",
       "      <td>52.0</td>\n",
       "      <td>15134.0</td>\n",
       "      <td>2068.0</td>\n",
       "    </tr>\n",
       "    <tr>\n",
       "      <th>2008-10-01</th>\n",
       "      <td>4210932294</td>\n",
       "      <td>52.0</td>\n",
       "      <td>15134.0</td>\n",
       "      <td>2068.0</td>\n",
       "    </tr>\n",
       "    <tr>\n",
       "      <th>2008-11-01</th>\n",
       "      <td>4210932294</td>\n",
       "      <td>3.0</td>\n",
       "      <td>14351.0</td>\n",
       "      <td>1961.0</td>\n",
       "    </tr>\n",
       "    <tr>\n",
       "      <th>2008-12-01</th>\n",
       "      <td>4210932294</td>\n",
       "      <td>17.0</td>\n",
       "      <td>8195.0</td>\n",
       "      <td>1120.0</td>\n",
       "    </tr>\n",
       "    <tr>\n",
       "      <th>2009-01-01</th>\n",
       "      <td>4210932294</td>\n",
       "      <td>36.0</td>\n",
       "      <td>9949.0</td>\n",
       "      <td>1360.0</td>\n",
       "    </tr>\n",
       "  </tbody>\n",
       "</table>\n",
       "</div>"
      ],
      "text/plain": [
       "                   API  M_OIL_BBL  M_GAS_MCF  M_WATER_BBL\n",
       "proddate                                                 \n",
       "2008-09-01  4210932294       52.0    15134.0       2068.0\n",
       "2008-10-01  4210932294       52.0    15134.0       2068.0\n",
       "2008-11-01  4210932294        3.0    14351.0       1961.0\n",
       "2008-12-01  4210932294       17.0     8195.0       1120.0\n",
       "2009-01-01  4210932294       36.0     9949.0       1360.0"
      ]
     },
     "execution_count": 29,
     "metadata": {},
     "output_type": "execute_result"
    }
   ],
   "source": [
    "prod_df.head()"
   ]
  },
  {
   "cell_type": "code",
   "execution_count": 30,
   "metadata": {},
   "outputs": [
    {
     "data": {
      "text/plain": [
       "(95, 3)"
      ]
     },
     "execution_count": 30,
     "metadata": {},
     "output_type": "execute_result"
    }
   ],
   "source": [
    "well1_df = prod_df.loc[prod_df['API'] == 4200000000]\n",
    "well1_df = well1_df.drop('API', axis=1)\n",
    "well1_df.shape"
   ]
  },
  {
   "cell_type": "code",
   "execution_count": 31,
   "metadata": {},
   "outputs": [
    {
     "name": "stdout",
     "output_type": "stream",
     "text": [
      "M_OIL_BBL      float64\n",
      "M_GAS_MCF      float64\n",
      "M_WATER_BBL    float64\n",
      "dtype: object\n",
      "(95, 3)\n"
     ]
    },
    {
     "data": {
      "text/html": [
       "<div>\n",
       "<style scoped>\n",
       "    .dataframe tbody tr th:only-of-type {\n",
       "        vertical-align: middle;\n",
       "    }\n",
       "\n",
       "    .dataframe tbody tr th {\n",
       "        vertical-align: top;\n",
       "    }\n",
       "\n",
       "    .dataframe thead th {\n",
       "        text-align: right;\n",
       "    }\n",
       "</style>\n",
       "<table border=\"1\" class=\"dataframe\">\n",
       "  <thead>\n",
       "    <tr style=\"text-align: right;\">\n",
       "      <th></th>\n",
       "      <th>M_OIL_BBL</th>\n",
       "      <th>M_GAS_MCF</th>\n",
       "      <th>M_WATER_BBL</th>\n",
       "    </tr>\n",
       "    <tr>\n",
       "      <th>proddate</th>\n",
       "      <th></th>\n",
       "      <th></th>\n",
       "      <th></th>\n",
       "    </tr>\n",
       "  </thead>\n",
       "  <tbody>\n",
       "    <tr>\n",
       "      <th>2014-06-01</th>\n",
       "      <td>8460.0</td>\n",
       "      <td>84687.0</td>\n",
       "      <td>29015.0</td>\n",
       "    </tr>\n",
       "    <tr>\n",
       "      <th>2014-07-01</th>\n",
       "      <td>7907.0</td>\n",
       "      <td>90127.0</td>\n",
       "      <td>30879.0</td>\n",
       "    </tr>\n",
       "    <tr>\n",
       "      <th>2014-08-01</th>\n",
       "      <td>6533.0</td>\n",
       "      <td>74986.0</td>\n",
       "      <td>25692.0</td>\n",
       "    </tr>\n",
       "    <tr>\n",
       "      <th>2014-09-01</th>\n",
       "      <td>3130.0</td>\n",
       "      <td>34069.0</td>\n",
       "      <td>11673.0</td>\n",
       "    </tr>\n",
       "    <tr>\n",
       "      <th>2014-10-01</th>\n",
       "      <td>4253.0</td>\n",
       "      <td>56166.0</td>\n",
       "      <td>19244.0</td>\n",
       "    </tr>\n",
       "  </tbody>\n",
       "</table>\n",
       "</div>"
      ],
      "text/plain": [
       "            M_OIL_BBL  M_GAS_MCF  M_WATER_BBL\n",
       "proddate                                     \n",
       "2014-06-01     8460.0    84687.0      29015.0\n",
       "2014-07-01     7907.0    90127.0      30879.0\n",
       "2014-08-01     6533.0    74986.0      25692.0\n",
       "2014-09-01     3130.0    34069.0      11673.0\n",
       "2014-10-01     4253.0    56166.0      19244.0"
      ]
     },
     "execution_count": 31,
     "metadata": {},
     "output_type": "execute_result"
    }
   ],
   "source": [
    "well1_df.head()\n",
    "print(well1_df.dtypes)\n",
    "print(well1_df.shape)\n",
    "well1_df.dropna(axis=0).head()\n"
   ]
  },
  {
   "cell_type": "code",
   "execution_count": 32,
   "metadata": {},
   "outputs": [
    {
     "data": {
      "text/plain": [
       "Text(0, 0.5, 'Oil Rate (BBL/M), Gas Rate (MCF/M), Water Rate (BBL/M)')"
      ]
     },
     "execution_count": 32,
     "metadata": {},
     "output_type": "execute_result"
    },
    {
     "data": {
      "image/png": "[encoded data removed]",
      "text/plain": [
       "<Figure size 1440x504 with 1 Axes>"
      ]
     },
     "metadata": {
      "needs_background": "light"
     },
     "output_type": "display_data"
    }
   ],
   "source": [
    "date = well1_df.index.values\n",
    "\n",
    "fig=plt.figure(figsize=(20,7))\n",
    "plt.plot(date,well1_df['M_OIL_BBL'], color='green')\n",
    "plt.plot(date,well1_df['M_GAS_MCF'], color='red')\n",
    "plt.plot(date,well1_df['M_WATER_BBL'], color='blue')\n",
    "plt.title('Production Rate Vs. Time')\n",
    "plt.xlabel('Time (months)')\n",
    "plt.ylabel('Oil Rate (BBL/M), Gas Rate (MCF/M), Water Rate (BBL/M)')"
   ]
  },
  {
   "cell_type": "code",
   "execution_count": 33,
   "metadata": {},
   "outputs": [
    {
     "name": "stdout",
     "output_type": "stream",
     "text": [
      "API\n",
      "4200000000    114553.0\n",
      "4210932294       174.0\n",
      "4210932339     52186.0\n",
      "4210932344     27734.0\n",
      "4210932345     28451.0\n",
      "4210932346     19038.0\n",
      "4210932351     13135.0\n",
      "4210932352    253029.0\n",
      "4210932353    113775.0\n",
      "4210932356    273801.0\n",
      "Name: M_OIL_BBL, dtype: float64\n",
      "API\n",
      "4200000000    2215781.0\n",
      "4210932294     259757.0\n",
      "4210932339    1095508.0\n",
      "4210932344    1300762.0\n",
      "4210932345    2034409.0\n",
      "4210932346    1909938.0\n",
      "4210932351    1141220.0\n",
      "4210932352    3418213.0\n",
      "4210932353    1918717.0\n",
      "4210932356    2981025.0\n",
      "Name: M_GAS_MCF, dtype: float64\n",
      "API\n",
      "4200000000    547738.0\n",
      "4210932294    132264.0\n",
      "4210932339    123486.0\n",
      "4210932344    177316.0\n",
      "4210932345    341595.0\n",
      "4210932346    174035.0\n",
      "4210932351     85697.0\n",
      "4210932352    514785.0\n",
      "4210932353    741176.0\n",
      "4210932356    849886.0\n",
      "Name: M_WATER_BBL, dtype: float64\n"
     ]
    }
   ],
   "source": [
    "#prod_df2 = prod_df()\n",
    "Oil_volume = prod_df.groupby(\"API\")['M_OIL_BBL'].sum()\n",
    "Gas_volume = prod_df.groupby(\"API\")['M_GAS_MCF'].sum()\n",
    "Water_volume = prod_df.groupby(\"API\")['M_WATER_BBL'].sum()\n",
    "print(Oil_volume.head(10))\n",
    "print(Gas_volume.head(10))\n",
    "print(Water_volume.head(10))"
   ]
  },
  {
   "cell_type": "code",
   "execution_count": 34,
   "metadata": {},
   "outputs": [],
   "source": [
    "prod_df['M_BOE6_BBL'] = prod_df['M_OIL_BBL'] + prod_df['M_GAS_MCF']/6"
   ]
  },
  {
   "cell_type": "code",
   "execution_count": 35,
   "metadata": {},
   "outputs": [],
   "source": [
    "prod2_df = prod_df"
   ]
  },
  {
   "cell_type": "code",
   "execution_count": 36,
   "metadata": {},
   "outputs": [],
   "source": [
    "prod2_df = prod2_df.reset_index()\n",
    "prod2_df = prod2_df.drop('proddate',axis=1)"
   ]
  },
  {
   "cell_type": "code",
   "execution_count": 37,
   "metadata": {},
   "outputs": [
    {
     "data": {
      "text/html": [
       "<div>\n",
       "<style scoped>\n",
       "    .dataframe tbody tr th:only-of-type {\n",
       "        vertical-align: middle;\n",
       "    }\n",
       "\n",
       "    .dataframe tbody tr th {\n",
       "        vertical-align: top;\n",
       "    }\n",
       "\n",
       "    .dataframe thead th {\n",
       "        text-align: right;\n",
       "    }\n",
       "</style>\n",
       "<table border=\"1\" class=\"dataframe\">\n",
       "  <thead>\n",
       "    <tr style=\"text-align: right;\">\n",
       "      <th></th>\n",
       "      <th>API</th>\n",
       "      <th>M_OIL_BBL</th>\n",
       "      <th>M_GAS_MCF</th>\n",
       "      <th>M_WATER_BBL</th>\n",
       "      <th>M_BOE6_BBL</th>\n",
       "    </tr>\n",
       "  </thead>\n",
       "  <tbody>\n",
       "    <tr>\n",
       "      <th>0</th>\n",
       "      <td>4210932294</td>\n",
       "      <td>52.0</td>\n",
       "      <td>15134.0</td>\n",
       "      <td>2068.0</td>\n",
       "      <td>2574.333333</td>\n",
       "    </tr>\n",
       "    <tr>\n",
       "      <th>1</th>\n",
       "      <td>4210932294</td>\n",
       "      <td>52.0</td>\n",
       "      <td>15134.0</td>\n",
       "      <td>2068.0</td>\n",
       "      <td>2574.333333</td>\n",
       "    </tr>\n",
       "    <tr>\n",
       "      <th>2</th>\n",
       "      <td>4210932294</td>\n",
       "      <td>3.0</td>\n",
       "      <td>14351.0</td>\n",
       "      <td>1961.0</td>\n",
       "      <td>2394.833333</td>\n",
       "    </tr>\n",
       "    <tr>\n",
       "      <th>3</th>\n",
       "      <td>4210932294</td>\n",
       "      <td>17.0</td>\n",
       "      <td>8195.0</td>\n",
       "      <td>1120.0</td>\n",
       "      <td>1382.833333</td>\n",
       "    </tr>\n",
       "    <tr>\n",
       "      <th>4</th>\n",
       "      <td>4210932294</td>\n",
       "      <td>36.0</td>\n",
       "      <td>9949.0</td>\n",
       "      <td>1360.0</td>\n",
       "      <td>1694.166667</td>\n",
       "    </tr>\n",
       "  </tbody>\n",
       "</table>\n",
       "</div>"
      ],
      "text/plain": [
       "          API  M_OIL_BBL  M_GAS_MCF  M_WATER_BBL   M_BOE6_BBL\n",
       "0  4210932294       52.0    15134.0       2068.0  2574.333333\n",
       "1  4210932294       52.0    15134.0       2068.0  2574.333333\n",
       "2  4210932294        3.0    14351.0       1961.0  2394.833333\n",
       "3  4210932294       17.0     8195.0       1120.0  1382.833333\n",
       "4  4210932294       36.0     9949.0       1360.0  1694.166667"
      ]
     },
     "execution_count": 37,
     "metadata": {},
     "output_type": "execute_result"
    }
   ],
   "source": [
    "prod2_df.head()"
   ]
  },
  {
   "cell_type": "code",
   "execution_count": 38,
   "metadata": {},
   "outputs": [
    {
     "name": "stdout",
     "output_type": "stream",
     "text": [
      "API\n",
      "4200000000    483849.833333\n",
      "4210932294     19089.666667\n",
      "4210932339    234767.666667\n",
      "4210932344    244527.666667\n",
      "4210932345    367519.166667\n",
      "4210932346    337361.000000\n",
      "4210932351    203307.000000\n",
      "4210932352    822731.166667\n",
      "4210932353    433561.166667\n",
      "4210932356    770638.500000\n",
      "Name: M_BOE6_BBL, dtype: float64\n"
     ]
    }
   ],
   "source": [
    "BOE6_volume = prod2_df.groupby(\"API\")['M_BOE6_BBL'].sum()\n",
    "print(BOE6_volume.head(10))"
   ]
  },
  {
   "cell_type": "code",
   "execution_count": 39,
   "metadata": {},
   "outputs": [
    {
     "data": {
      "text/plain": [
       "Index(['API', 'M_OIL_BBL', 'M_GAS_MCF', 'M_WATER_BBL', 'M_BOE6_BBL'], dtype='object')"
      ]
     },
     "execution_count": 39,
     "metadata": {},
     "output_type": "execute_result"
    }
   ],
   "source": [
    "prod2_df.columns"
   ]
  },
  {
   "cell_type": "code",
   "execution_count": 40,
   "metadata": {},
   "outputs": [
    {
     "data": {
      "text/html": [
       "<div>\n",
       "<style scoped>\n",
       "    .dataframe tbody tr th:only-of-type {\n",
       "        vertical-align: middle;\n",
       "    }\n",
       "\n",
       "    .dataframe tbody tr th {\n",
       "        vertical-align: top;\n",
       "    }\n",
       "\n",
       "    .dataframe thead th {\n",
       "        text-align: right;\n",
       "    }\n",
       "</style>\n",
       "<table border=\"1\" class=\"dataframe\">\n",
       "  <thead>\n",
       "    <tr style=\"text-align: right;\">\n",
       "      <th></th>\n",
       "      <th>M_OIL_BBL</th>\n",
       "      <th>M_GAS_MCF</th>\n",
       "      <th>M_WATER_BBL</th>\n",
       "      <th>M_BOE6_BBL</th>\n",
       "    </tr>\n",
       "    <tr>\n",
       "      <th>API</th>\n",
       "      <th></th>\n",
       "      <th></th>\n",
       "      <th></th>\n",
       "      <th></th>\n",
       "    </tr>\n",
       "  </thead>\n",
       "  <tbody>\n",
       "    <tr>\n",
       "      <th>4200000000</th>\n",
       "      <td>114553.0</td>\n",
       "      <td>2215781.0</td>\n",
       "      <td>547738.0</td>\n",
       "      <td>483849.833333</td>\n",
       "    </tr>\n",
       "    <tr>\n",
       "      <th>4210932294</th>\n",
       "      <td>174.0</td>\n",
       "      <td>259757.0</td>\n",
       "      <td>132264.0</td>\n",
       "      <td>19089.666667</td>\n",
       "    </tr>\n",
       "    <tr>\n",
       "      <th>4210932339</th>\n",
       "      <td>52186.0</td>\n",
       "      <td>1095508.0</td>\n",
       "      <td>123486.0</td>\n",
       "      <td>234767.666667</td>\n",
       "    </tr>\n",
       "    <tr>\n",
       "      <th>4210932344</th>\n",
       "      <td>27734.0</td>\n",
       "      <td>1300762.0</td>\n",
       "      <td>177316.0</td>\n",
       "      <td>244527.666667</td>\n",
       "    </tr>\n",
       "    <tr>\n",
       "      <th>4210932345</th>\n",
       "      <td>28451.0</td>\n",
       "      <td>2034409.0</td>\n",
       "      <td>341595.0</td>\n",
       "      <td>367519.166667</td>\n",
       "    </tr>\n",
       "    <tr>\n",
       "      <th>...</th>\n",
       "      <td>...</td>\n",
       "      <td>...</td>\n",
       "      <td>...</td>\n",
       "      <td>...</td>\n",
       "    </tr>\n",
       "    <tr>\n",
       "      <th>4210932590</th>\n",
       "      <td>318631.0</td>\n",
       "      <td>4031960.0</td>\n",
       "      <td>1538168.0</td>\n",
       "      <td>990421.500000</td>\n",
       "    </tr>\n",
       "    <tr>\n",
       "      <th>4210932592</th>\n",
       "      <td>214760.0</td>\n",
       "      <td>2576657.0</td>\n",
       "      <td>311994.0</td>\n",
       "      <td>644202.833333</td>\n",
       "    </tr>\n",
       "    <tr>\n",
       "      <th>4210932593</th>\n",
       "      <td>193437.0</td>\n",
       "      <td>1892454.0</td>\n",
       "      <td>307977.0</td>\n",
       "      <td>508846.000000</td>\n",
       "    </tr>\n",
       "    <tr>\n",
       "      <th>4210932604</th>\n",
       "      <td>84281.0</td>\n",
       "      <td>1447358.0</td>\n",
       "      <td>369343.0</td>\n",
       "      <td>325507.333333</td>\n",
       "    </tr>\n",
       "    <tr>\n",
       "      <th>4210932605</th>\n",
       "      <td>121717.0</td>\n",
       "      <td>2006665.0</td>\n",
       "      <td>337932.0</td>\n",
       "      <td>456161.166667</td>\n",
       "    </tr>\n",
       "  </tbody>\n",
       "</table>\n",
       "<p>97 rows × 4 columns</p>\n",
       "</div>"
      ],
      "text/plain": [
       "            M_OIL_BBL  M_GAS_MCF  M_WATER_BBL     M_BOE6_BBL\n",
       "API                                                         \n",
       "4200000000   114553.0  2215781.0     547738.0  483849.833333\n",
       "4210932294      174.0   259757.0     132264.0   19089.666667\n",
       "4210932339    52186.0  1095508.0     123486.0  234767.666667\n",
       "4210932344    27734.0  1300762.0     177316.0  244527.666667\n",
       "4210932345    28451.0  2034409.0     341595.0  367519.166667\n",
       "...               ...        ...          ...            ...\n",
       "4210932590   318631.0  4031960.0    1538168.0  990421.500000\n",
       "4210932592   214760.0  2576657.0     311994.0  644202.833333\n",
       "4210932593   193437.0  1892454.0     307977.0  508846.000000\n",
       "4210932604    84281.0  1447358.0     369343.0  325507.333333\n",
       "4210932605   121717.0  2006665.0     337932.0  456161.166667\n",
       "\n",
       "[97 rows x 4 columns]"
      ]
     },
     "execution_count": 40,
     "metadata": {},
     "output_type": "execute_result"
    }
   ],
   "source": [
    "prod2_df = prod2_df.groupby(['API'],as_index='API').sum()\n",
    "prod2_df"
   ]
  },
  {
   "cell_type": "code",
   "execution_count": 41,
   "metadata": {},
   "outputs": [
    {
     "name": "stdout",
     "output_type": "stream",
     "text": [
      "94\n"
     ]
    }
   ],
   "source": [
    "boe6_df = prod2_df[prod2_df['M_BOE6_BBL']>100000]\n",
    "\n",
    "print(boe6_df.M_BOE6_BBL.count())"
   ]
  },
  {
   "cell_type": "code",
   "execution_count": 42,
   "metadata": {},
   "outputs": [],
   "source": [
    "boe6_df.to_csv(r'./boe6_df.csv',header=True)"
   ]
  },
  {
   "cell_type": "code",
   "execution_count": 43,
   "metadata": {},
   "outputs": [
    {
     "name": "stdout",
     "output_type": "stream",
     "text": [
      "            M_OIL_BBL  M_GAS_MCF  M_WATER_BBL    M_BOE6_BBL\n",
      "API                                                        \n",
      "4210932581   354300.0  6601084.0    1139335.0  1.454481e+06\n"
     ]
    }
   ],
   "source": [
    "print(boe6_df[boe6_df.M_BOE6_BBL == boe6_df.M_BOE6_BBL.max()])"
   ]
  }
 ],
 "metadata": {
  "iooxa": {
   "id": {
    "block": "JD1qzumZZ1PxwiRyTXvm",
    "project": "isBg8ayBxEW5TP6pshIa",
    "version": 1
   }
  },
  "kernelspec": {
   "display_name": "Python 3.8.10 ('base')",
   "language": "python",
   "name": "python3"
  },
  "language_info": {
   "codemirror_mode": {
    "name": "ipython",
    "version": 3
   },
   "file_extension": ".py",
   "mimetype": "text/x-python",
   "name": "python",
   "nbconvert_exporter": "python",
   "pygments_lexer": "ipython3",
   "version": "3.8.10"
  },
  "vscode": {
   "interpreter": {
    "hash": "4b3c9dd4753498280d3afd466afc2da870416878b9165a4cec861329248d3b95"
   }
  }
 },
 "nbformat": 4,
 "nbformat_minor": 2
}
